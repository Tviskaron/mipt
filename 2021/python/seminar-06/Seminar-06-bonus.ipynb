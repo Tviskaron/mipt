{
 "cells": [
  {
   "cell_type": "markdown",
   "id": "a684f8a6",
   "metadata": {},
   "source": [
    "## Key-value базы данных: Redis\n",
    "\n",
    "Установка:\n",
    "```bash\n",
    "sudo apt-get install redis-server\n",
    "pip3 install redis\n",
    "```"
   ]
  },
  {
   "cell_type": "code",
   "execution_count": null,
   "id": "f0cce729",
   "metadata": {},
   "outputs": [],
   "source": [
    "import redis\n",
    "\n",
    "r = redis.Redis(host='localhost', port=6379, db=13)                                                        "
   ]
  },
  {
   "cell_type": "code",
   "execution_count": null,
   "id": "26f749d2",
   "metadata": {},
   "outputs": [],
   "source": [
    "print(r.get('foo'))"
   ]
  },
  {
   "cell_type": "code",
   "execution_count": null,
   "id": "748e4c52",
   "metadata": {},
   "outputs": [],
   "source": [
    "r.set('foo', 'bar')                                                     "
   ]
  },
  {
   "cell_type": "code",
   "execution_count": null,
   "id": "4969996d",
   "metadata": {},
   "outputs": [],
   "source": [
    "r.get('foo')   "
   ]
  },
  {
   "cell_type": "markdown",
   "id": "e6a875b7",
   "metadata": {},
   "source": [
    "Подробнее: https://pypi.org/project/redis/"
   ]
  },
  {
   "cell_type": "markdown",
   "id": "11e96dd1",
   "metadata": {},
   "source": [
    "## GIL (Global Interpeter Lock) в Python\n",
    "\n",
    "Начнем сразу с примера программы:"
   ]
  },
  {
   "cell_type": "code",
   "execution_count": null,
   "id": "ba463d8e",
   "metadata": {},
   "outputs": [],
   "source": [
    "def count(n):\n",
    "    while n > 0:\n",
    "        n -= 1\n",
    "        \n",
    "x = 100000000"
   ]
  },
  {
   "cell_type": "markdown",
   "id": "f0f64fdd",
   "metadata": {},
   "source": [
    "Запустим два раза и измерим время:"
   ]
  },
  {
   "cell_type": "code",
   "execution_count": null,
   "id": "d266b619",
   "metadata": {},
   "outputs": [],
   "source": [
    "%%time\n",
    "count(x)\n",
    "count(x)"
   ]
  },
  {
   "cell_type": "markdown",
   "id": "3fb18c44",
   "metadata": {},
   "source": [
    "Также запустим две функции, но теперь они будут выполняться параллельно:"
   ]
  },
  {
   "cell_type": "code",
   "execution_count": null,
   "id": "ed27f051",
   "metadata": {},
   "outputs": [],
   "source": [
    "from threading import Thread"
   ]
  },
  {
   "cell_type": "code",
   "execution_count": null,
   "id": "e668a938",
   "metadata": {},
   "outputs": [],
   "source": [
    "%%time\n",
    "t1 = Thread(target=count,args=(x,))\n",
    "t1.start()\n",
    "t2 = Thread(target=count,args=(x,))\n",
    "t2.start()\n",
    "t1.join()\n",
    "t2.join()"
   ]
  },
  {
   "cell_type": "markdown",
   "id": "d42f90d1",
   "metadata": {},
   "source": [
    "В любой момент может выполняться только один поток Python. Глобальная блокировка интерпретатора — GIL — тщательно контролирует выполнение тредов. GIL гарантирует каждому потоку эксклюзивный доступ к переменным интерпретатора (и соответствующие вызовы C-расширений работают правильно).\n",
    "\n",
    "Потоки удерживают GIL, пока выполняются. Однако они освобождают его при блокировании для операций ввода-вывода. Каждый раз, когда поток вынужден ждать, другие, готовые к выполнению, потоки используют свой шанс запуститься.\n",
    "\n",
    "При работе с CPU-зависимыми потоками, которые никогда не производят операции ввода-вывода, интерпретатор периодически проводит проверку («the periodic check»).\n",
    "\n",
    "По умолчанию это происходит каждые 100 «тиков»(тики неделимые инструкции python), но этот параметр можно изменить с помощью sys.setcheckinterval(). Интервал проверки — глобальный счетчик, абсолютно независимый от порядка переключения потоков. (В новых версиях python, проверка происходит по времени, а не по тикам).\n",
    "\n",
    "При периодической проверке в главном потоке запускаются обработчики сигналов, если таковые имеются. Затем GIL отключается и включается вновь. На этом этапе обеспечивается возможность переключения нескольких CPU-зависимых потоков (при кратком освобождении GIL другие треды имеют шанс на запуск)."
   ]
  },
  {
   "cell_type": "markdown",
   "id": "cd60943e",
   "metadata": {},
   "source": [
    "### А зачем нужен GIL? \n",
    "\n",
    "Python подсчитывает количество ссылок для корректного управления памятью. Это означает, что созданные в Python объекты имеют переменную подсчёта ссылок, в которой хранится количество всех ссылок на этот объект. Как только эта переменная становится равной нулю, память, выделенная под этот объект, освобождается.\n",
    "\n",
    "Вот небольшой пример кода, демонстрирующий работу переменных подсчёта ссылок:"
   ]
  },
  {
   "cell_type": "code",
   "execution_count": null,
   "id": "79a5f283",
   "metadata": {},
   "outputs": [],
   "source": [
    "import sys\n",
    "\n",
    "a = []\n",
    "b = a\n",
    "\n",
    "sys.getrefcount(a)"
   ]
  },
  {
   "cell_type": "markdown",
   "id": "8b547cf9",
   "metadata": {},
   "source": [
    "В этом примере количество ссылок на пустой список равно 3. На этот список ссылаются: переменная a, переменная b и аргумент, переданный функции sys.getrefcount().\n",
    "\n",
    "Проблема, которую решает GIL, связана с тем, что в многопоточном приложении сразу несколько потоков могут увеличивать или уменьшать значения этого счётчика ссылок. Это может привести к тому, что память очистится неправильно и удалится тот объект, на который ещё существует ссылка.\n",
    "\n",
    "Счётчик ссылок можно защитить, добавив блокираторы на все структуры данных, которые распространяются по нескольким потокам. В таком случае счётчик будет изменяться исключительно последовательно.\n",
    "\n",
    "Но добавление блокировки к нескольким объектам может привести к появлению другой проблемы — взаимоблокировки (англ. deadlocks), которая получается только если блокировка есть более чем на одном объекте. "
   ]
  },
  {
   "cell_type": "markdown",
   "id": "041b1773",
   "metadata": {},
   "source": [
    "### Все о чем мы говорили выше $-$ относится к потокам, а чем поток отличается от процесса?"
   ]
  },
  {
   "cell_type": "code",
   "execution_count": null,
   "id": "3ca92aad",
   "metadata": {},
   "outputs": [],
   "source": [
    "from multiprocessing import Process, Pipe\n",
    "\n",
    "def f(conn):\n",
    "    conn.send([42, None, 'hello'])\n",
    "    print('hello')\n",
    "    conn.close()\n",
    "\n",
    "if __name__ == '__main__':\n",
    "    parent_conn, child_conn = Pipe()\n",
    "    p = Process(target=f, args=(child_conn,))\n",
    "    p.start()\n",
    "    print(parent_conn.recv())   # prints \"[42, None, 'hello']\"\n",
    "    p.join()"
   ]
  },
  {
   "cell_type": "markdown",
   "id": "76d4ae0c",
   "metadata": {},
   "source": [
    "Если мы используем multiprocessing $-$ таких проблем не будет, но у такого подхода есть и свои минусы. Например, не удобно использвовать ```pipes```, для передачи результатов: [документация](https://docs.python.org/3/library/multiprocessing.html)\n"
   ]
  },
  {
   "cell_type": "markdown",
   "id": "8294f48c",
   "metadata": {},
   "source": [
    "## Визуализация графов в Python, библиотека PyGraphviz:"
   ]
  },
  {
   "cell_type": "code",
   "execution_count": 3,
   "id": "3da7e565",
   "metadata": {},
   "outputs": [
    {
     "ename": "ModuleNotFoundError",
     "evalue": "No module named 'graphviz'",
     "output_type": "error",
     "traceback": [
      "\u001b[0;31m---------------------------------------------------------------------------\u001b[0m",
      "\u001b[0;31mModuleNotFoundError\u001b[0m                       Traceback (most recent call last)",
      "\u001b[0;32m/var/folders/vl/tw6hb55d5h128hy6myc420yr0000gq/T/ipykernel_46583/1854134424.py\u001b[0m in \u001b[0;36m<module>\u001b[0;34m\u001b[0m\n\u001b[0;32m----> 1\u001b[0;31m \u001b[0;32mfrom\u001b[0m \u001b[0mgraphviz\u001b[0m \u001b[0;32mimport\u001b[0m \u001b[0mDigraph\u001b[0m\u001b[0;34m\u001b[0m\u001b[0;34m\u001b[0m\u001b[0m\n\u001b[0m\u001b[1;32m      2\u001b[0m \u001b[0;34m\u001b[0m\u001b[0m\n\u001b[1;32m      3\u001b[0m \u001b[0mg\u001b[0m \u001b[0;34m=\u001b[0m \u001b[0mDigraph\u001b[0m\u001b[0;34m(\u001b[0m\u001b[0;34m'G'\u001b[0m\u001b[0;34m)\u001b[0m\u001b[0;34m\u001b[0m\u001b[0;34m\u001b[0m\u001b[0m\n\u001b[1;32m      4\u001b[0m \u001b[0;34m\u001b[0m\u001b[0m\n\u001b[1;32m      5\u001b[0m \u001b[0mg\u001b[0m\u001b[0;34m.\u001b[0m\u001b[0medge\u001b[0m\u001b[0;34m(\u001b[0m\u001b[0;34m'Hello'\u001b[0m\u001b[0;34m,\u001b[0m \u001b[0;34m'World'\u001b[0m\u001b[0;34m)\u001b[0m\u001b[0;34m\u001b[0m\u001b[0;34m\u001b[0m\u001b[0m\n",
      "\u001b[0;31mModuleNotFoundError\u001b[0m: No module named 'graphviz'"
     ]
    }
   ],
   "source": [
    "from graphviz import Digraph\n",
    "\n",
    "g = Digraph('G')\n",
    "\n",
    "g.edge('Hello', 'World')\n",
    "\n",
    "g"
   ]
  },
  {
   "cell_type": "code",
   "execution_count": null,
   "id": "a79dda2d",
   "metadata": {},
   "outputs": [],
   "source": []
  }
 ],
 "metadata": {
  "kernelspec": {
   "display_name": "Python 3 (ipykernel)",
   "language": "python",
   "name": "python3"
  },
  "language_info": {
   "codemirror_mode": {
    "name": "ipython",
    "version": 3
   },
   "file_extension": ".py",
   "mimetype": "text/x-python",
   "name": "python",
   "nbconvert_exporter": "python",
   "pygments_lexer": "ipython3",
   "version": "3.9.7"
  }
 },
 "nbformat": 4,
 "nbformat_minor": 5
}
