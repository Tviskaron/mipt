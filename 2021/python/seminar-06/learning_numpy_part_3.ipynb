{
 "cells": [
  {
   "cell_type": "markdown",
   "id": "c421c4cb",
   "metadata": {},
   "source": [
    "## Learning Numpy. The Hard Way. Part 3.\n",
    "\n",
    "Вам нужно выполнить __последнюю часть__ упражнений по Numpy.\n"
   ]
  },
  {
   "cell_type": "markdown",
   "id": "00cdc834",
   "metadata": {
    "id": "1soqqrozsbxk"
   },
   "source": [
    "#### Задание 41.\n",
    "```python\n",
    "# Q. Create a new column for volume in iris_2d, where volume is (pi x petallength x sepal_length^2)/3\n",
    "\n",
    "# Input\n",
    "# Use the iris dataset provided\n",
    "print_files()\n",
    "\n",
    "# Use this if you are working on your local machine\n",
    "# url = 'https://archive.ics.uci.edu/ml/machine-learning-databases/iris/iris.data'\n",
    "# iris_2d = np.genfromtxt(url, delimiter=',', dtype='float', usecols=[0,1,2,3])\n",
    "# names = ('sepallength', 'sepalwidth', 'petallength', 'petalwidth', 'species')\n",
    "```"
   ]
  },
  {
   "cell_type": "code",
   "execution_count": null,
   "id": "835f7f84",
   "metadata": {},
   "outputs": [],
   "source": []
  },
  {
   "cell_type": "markdown",
   "id": "e51be083",
   "metadata": {
    "id": "nfRw7sPCsbxk"
   },
   "source": [
    "#### Задание 42.\n",
    "```python\n",
    "# Q. Randomly sample iris's species such that setose is twice the number of versicolor and virginica\n",
    "\n",
    "# Input\n",
    "# Use the iris dataset provided\n",
    "print_files()\n",
    "\n",
    "# Use this if you are working on your local machine\n",
    "# url = 'https://archive.ics.uci.edu/ml/machine-learning-databases/iris/iris.data'\n",
    "# iris = np.genfromtxt(url, delimiter=',', dtype='object')\n",
    "```"
   ]
  },
  {
   "cell_type": "code",
   "execution_count": null,
   "id": "a943aa4c",
   "metadata": {},
   "outputs": [],
   "source": []
  },
  {
   "cell_type": "markdown",
   "id": "3d5fe3f6",
   "metadata": {
    "id": "wlBDA3ALsbxk"
   },
   "source": [
    "#### Задание 43.\n",
    "```python\n",
    "# Q. What is the value of second longest petallength of species setosa\n",
    "\n",
    "# Input\n",
    "# Use the iris dataset provided\n",
    "print_files()\n",
    "\n",
    "# Use this if you are working on your local machine\n",
    "# url = 'https://archive.ics.uci.edu/ml/machine-learning-databases/iris/iris.data'\n",
    "# iris_2d = np.genfromtxt(url, delimiter=',', dtype='float', usecols=[0,1,2,3])\n",
    "# names = ('sepallength', 'sepalwidth', 'petallength', 'petalwidth', 'species')\n",
    "```"
   ]
  },
  {
   "cell_type": "code",
   "execution_count": null,
   "id": "015984c0",
   "metadata": {},
   "outputs": [],
   "source": []
  },
  {
   "cell_type": "markdown",
   "id": "8c45c5aa",
   "metadata": {
    "id": "zNPxF0dqsbxl"
   },
   "source": [
    "#### Задание 44.\n",
    "```python\n",
    "# Q. Sort the iris dataset based on sepallength column.\n",
    "\n",
    "# Input\n",
    "# Use the iris dataset provided\n",
    "print_files()\n",
    "\n",
    "# Use this if you are working on your local machine\n",
    "# url = 'https://archive.ics.uci.edu/ml/machine-learning-databases/iris/iris.data'\n",
    "# iris = np.genfromtxt(url, delimiter=',', dtype='object')\n",
    "# names = ('sepallength', 'sepalwidth', 'petallength', 'petalwidth', 'species')\n",
    "```"
   ]
  },
  {
   "cell_type": "code",
   "execution_count": null,
   "id": "098cc3c3",
   "metadata": {},
   "outputs": [],
   "source": []
  },
  {
   "cell_type": "markdown",
   "id": "53032812",
   "metadata": {
    "id": "uFZYeEEysbxl"
   },
   "source": [
    "#### Задание 45.\n",
    "```python\n",
    "# Q. Find the most frequent value of petal length (3rd column) in iris dataset.\n",
    "\n",
    "# Input\n",
    "# Use the iris dataset provided\n",
    "print_files()\n",
    "\n",
    "# Use this if you are working on your local machine\n",
    "# url = 'https://archive.ics.uci.edu/ml/machine-learning-databases/iris/iris.data'\n",
    "# iris = np.genfromtxt(url, delimiter=',', dtype='object')\n",
    "# names = ('sepallength', 'sepalwidth', 'petallength', 'petalwidth', 'species')\n",
    "```"
   ]
  },
  {
   "cell_type": "code",
   "execution_count": null,
   "id": "01912289",
   "metadata": {},
   "outputs": [],
   "source": []
  },
  {
   "cell_type": "markdown",
   "id": "50a22ce8",
   "metadata": {
    "id": "iMeKkTq0sbxl"
   },
   "source": [
    "#### Задание 46.\n",
    "```python\n",
    "# Q. Find the position of the first occurrence of a value greater than 1.0 in petalwidth 4th column of iris dataset.\n",
    "\n",
    "# Input\n",
    "# Use the iris dataset provided\n",
    "print(\"Input\")\n",
    "print_files()\n",
    "\n",
    "# Use this if you are working on your local machine\n",
    "# url = 'https://archive.ics.uci.edu/ml/machine-learning-databases/iris/iris.data'\n",
    "# iris = np.genfromtxt(url, delimiter=',', dtype='object')\n",
    "```"
   ]
  },
  {
   "cell_type": "code",
   "execution_count": null,
   "id": "08af3fe3",
   "metadata": {},
   "outputs": [],
   "source": []
  },
  {
   "cell_type": "markdown",
   "id": "3caf41ed",
   "metadata": {
    "id": "5Hl3fHmfsbxl"
   },
   "source": [
    "#### Задание 47.\n",
    "```python\n",
    "# Q. From the array a, replace all values greater than 30 to 30 and less than 10 to 10.\n",
    "# Input\n",
    "print(\"Input\")\n",
    "np.random.seed(100)\n",
    "a = np.random.uniform(1,50, 20)\n",
    "a\n",
    "\n",
    "```"
   ]
  },
  {
   "cell_type": "code",
   "execution_count": null,
   "id": "671e8fa7",
   "metadata": {},
   "outputs": [],
   "source": []
  },
  {
   "cell_type": "markdown",
   "id": "fd8c3e12",
   "metadata": {
    "id": "jhmOvlmXsbxm"
   },
   "source": [
    "#### Задание 48.\n",
    "```python\n",
    "# Q. Get the positions of top 5 maximum values in a given array a.\n",
    "\n",
    "# Input\n",
    "print(\"Input\")\n",
    "np.random.seed(100)\n",
    "a = np.random.uniform(1,50, 20)\n",
    "a\n",
    "```"
   ]
  },
  {
   "cell_type": "code",
   "execution_count": null,
   "id": "c090106e",
   "metadata": {},
   "outputs": [],
   "source": []
  },
  {
   "cell_type": "markdown",
   "id": "3e8608b5",
   "metadata": {
    "id": "LhLrkWaQsbxm"
   },
   "source": [
    "#### Задание 49.\n",
    "```python\n",
    "# Q. Compute the counts of unique values row-wise.\n",
    "\n",
    "# Input\n",
    "print(\"Input\")\n",
    "np.random.seed(100)\n",
    "arr = np.random.randint(1,11,size=(6, 10))\n",
    "arr\n",
    "\n",
    "# Desired Output\n",
    "# > [[1, 0, 2, 1, 1, 1, 0, 2, 2, 0],\n",
    "# >  [2, 1, 3, 0, 1, 0, 1, 0, 1, 1],\n",
    "# >  [0, 3, 0, 2, 3, 1, 0, 1, 0, 0],\n",
    "# >  [1, 0, 2, 1, 0, 1, 0, 2, 1, 2],\n",
    "# >  [2, 2, 2, 0, 0, 1, 1, 1, 1, 0],\n",
    "# >  [1, 1, 1, 1, 1, 2, 0, 0, 2, 1]]\n",
    "\n",
    "# Output contains 10 columns representing numbers from 1 to 10. The values are the counts of the numbers in the respective rows.\n",
    "# For example, Cell(0,2) has the value 2, which means, the number 3 occurs exactly 2 times in the 1st row.\n",
    "```"
   ]
  },
  {
   "cell_type": "code",
   "execution_count": null,
   "id": "e0ee67ca",
   "metadata": {},
   "outputs": [],
   "source": []
  },
  {
   "cell_type": "markdown",
   "id": "1e66e7c6",
   "metadata": {
    "id": "UdqkHPg-sbxm"
   },
   "source": [
    "#### Задание 50.\n",
    "```python\n",
    "# Q. Convert array_of_arrays into a flat linear 1d array.\n",
    "\n",
    "# Input\n",
    "print(\"Input\")\n",
    "arr = np.arange(9).reshape(3,3)\n",
    "arr\n",
    "```"
   ]
  },
  {
   "cell_type": "code",
   "execution_count": null,
   "id": "828b79af",
   "metadata": {},
   "outputs": [],
   "source": []
  },
  {
   "cell_type": "markdown",
   "id": "6ed458f5",
   "metadata": {
    "id": "LFJAb6XRsbxm"
   },
   "source": [
    "#### Задание 51.\n",
    "```python\n",
    "# Q. Compute the one-hot encodings (dummy binary variables for each unique value in the array)\n",
    "\n",
    "# Input\n",
    "print(\"Input\")\n",
    "np.random.seed(101) \n",
    "arr = np.random.randint(1,4, size=6)\n",
    "arr\n",
    "\n",
    "# Desired Output\n",
    "# > array([[ 0.,  1.,  0.],\n",
    "# >        [ 0.,  0.,  1.],\n",
    "# >        [ 0.,  1.,  0.],\n",
    "# >        [ 0.,  1.,  0.],\n",
    "# >        [ 0.,  1.,  0.],\n",
    "# >        [ 1.,  0.,  0.]])\n",
    "```"
   ]
  },
  {
   "cell_type": "code",
   "execution_count": null,
   "id": "13df560b",
   "metadata": {},
   "outputs": [],
   "source": []
  },
  {
   "cell_type": "markdown",
   "id": "20f912b3",
   "metadata": {
    "id": "UYY9_CDksbxn"
   },
   "source": [
    "#### Задание 52.\n",
    "```python\n",
    "# Q. Create row numbers grouped by a categorical variable. Use the following sample from iris species as input.\n",
    "\n",
    "# Input\n",
    "# Use the iris dataset provided\n",
    "print(\"Input\")\n",
    "print_files()\n",
    "\n",
    "# Use this if you are working on your local machine\n",
    "# species = np.genfromtxt(url, delimiter=',', dtype='str', usecols=4)\n",
    "# species_small = np.sort(np.random.choice(species, size=20))\n",
    "# species_small\n",
    "# > array(['Iris-setosa', 'Iris-setosa', 'Iris-setosa', 'Iris-setosa',\n",
    "# >        'Iris-setosa', 'Iris-setosa', 'Iris-versicolor', 'Iris-versicolor',\n",
    "# >        'Iris-versicolor', 'Iris-versicolor', 'Iris-versicolor',\n",
    "# >        'Iris-versicolor', 'Iris-virginica', 'Iris-virginica',\n",
    "# >        'Iris-virginica', 'Iris-virginica', 'Iris-virginica',\n",
    "# >        'Iris-virginica', 'Iris-virginica', 'Iris-virginica'],\n",
    "# >       dtype='<U15')\n",
    "\n",
    "\n",
    "# Desired Output\n",
    "# > [0, 1, 2, 3, 4, 5, 0, 1, 2, 3, 4, 5, 0, 1, 2, 3, 4, 5, 6, 7]\n",
    "```"
   ]
  },
  {
   "cell_type": "code",
   "execution_count": null,
   "id": "b70b09ce",
   "metadata": {},
   "outputs": [],
   "source": []
  },
  {
   "cell_type": "markdown",
   "id": "9cf04d53",
   "metadata": {
    "id": "6Bv5rEIksbxn"
   },
   "source": [
    "#### Задание 53.\n",
    "```python\n",
    "# Q. Create group ids based on a given categorical variable. Use the following sample from iris species as input\n",
    "\n",
    "# Input\n",
    "# Use the iris dataset provided\n",
    "print(\"Input\")\n",
    "print_files()\n",
    "\n",
    "# Use this if you are working on your local machine\n",
    "# species = np.genfromtxt(url, delimiter=',', dtype='str', usecols=4)\n",
    "# species_small = np.sort(np.random.choice(species, size=20))\n",
    "# species_small\n",
    "# > array(['Iris-setosa', 'Iris-setosa', 'Iris-setosa', 'Iris-setosa',\n",
    "# >        'Iris-setosa', 'Iris-setosa', 'Iris-versicolor', 'Iris-versicolor',\n",
    "# >        'Iris-versicolor', 'Iris-versicolor', 'Iris-versicolor',\n",
    "# >        'Iris-versicolor', 'Iris-virginica', 'Iris-virginica',\n",
    "# >        'Iris-virginica', 'Iris-virginica', 'Iris-virginica',\n",
    "# >        'Iris-virginica', 'Iris-virginica', 'Iris-virginica'],\n",
    "# >       dtype='<U15')\n",
    "\n",
    "# Desired Output\n",
    "# > [0, 0, 0, 0, 0, 1, 1, 1, 1, 1, 1, 1, 1, 1, 2, 2, 2, 2, 2, 2]\n",
    "```"
   ]
  },
  {
   "cell_type": "code",
   "execution_count": null,
   "id": "71e67b89",
   "metadata": {},
   "outputs": [],
   "source": []
  },
  {
   "cell_type": "markdown",
   "id": "82b83672",
   "metadata": {
    "id": "eGTDqZPwsbxn"
   },
   "source": [
    "#### Задание 54.\n",
    "```python\n",
    "# Q. Create the ranks for the given numeric array a.\n",
    "\n",
    "# Input\n",
    "print(\"Input\")\n",
    "np.random.seed(10)\n",
    "a = np.random.randint(20, size=10)\n",
    "a\n",
    "\n",
    "# Desired Output\n",
    "# [4 2 6 0 8 7 9 3 5 1]\n",
    "```"
   ]
  },
  {
   "cell_type": "code",
   "execution_count": null,
   "id": "65dc9dde",
   "metadata": {},
   "outputs": [],
   "source": []
  },
  {
   "cell_type": "markdown",
   "id": "834764ee",
   "metadata": {
    "id": "_wj1SVQ5sbxn"
   },
   "source": [
    "#### Задание 55.\n",
    "```python\n",
    "# Q. Create a rank array of the same shape as a given numeric array a.\n",
    "\n",
    "# Input\n",
    "print(\"Input\")\n",
    "np.random.seed(10)\n",
    "a = np.random.randint(20, size=[2,5])\n",
    "a\n",
    "\n",
    "# Desired Output\n",
    "# > [[4 2 6 0 8]\n",
    "# >  [7 9 3 5 1]]\n",
    "```"
   ]
  },
  {
   "cell_type": "code",
   "execution_count": null,
   "id": "8b07b7db",
   "metadata": {},
   "outputs": [],
   "source": []
  },
  {
   "cell_type": "markdown",
   "id": "8b6bae69",
   "metadata": {
    "id": "-XAlw228sbxo"
   },
   "source": [
    "#### Задание 56.\n",
    "```python\n",
    "# Q. Compute the maximum for each row in the given array.\n",
    "\n",
    "# Input\n",
    "print(\"Input\")\n",
    "np.random.seed(100)\n",
    "a = np.random.randint(1,10, [5,3])\n",
    "a\n",
    "```"
   ]
  },
  {
   "cell_type": "code",
   "execution_count": null,
   "id": "b83bf3f9",
   "metadata": {},
   "outputs": [],
   "source": []
  },
  {
   "cell_type": "markdown",
   "id": "83c1c082",
   "metadata": {
    "id": "SjOHaejesbxo"
   },
   "source": [
    "#### Задание 57.\n",
    "```python\n",
    "# Q. Compute the min-by-max for each row for given 2d numpy array.\n",
    "\n",
    "# Input\n",
    "print(\"Input\")\n",
    "np.random.seed(100)\n",
    "a = np.random.randint(1,10, [5,3])\n",
    "a\n",
    "```"
   ]
  },
  {
   "cell_type": "code",
   "execution_count": null,
   "id": "8be59cbb",
   "metadata": {},
   "outputs": [],
   "source": []
  },
  {
   "cell_type": "markdown",
   "id": "d061e03c",
   "metadata": {
    "id": "Kg09Ama9sbxo"
   },
   "source": [
    "#### Задание 58.\n",
    "```python\n",
    "# Q. Find the duplicate entries (2nd occurrence onwards) in the given numpy array and mark them as True. First time occurrences should be False.\n",
    "\n",
    "# Input\n",
    "print(\"Input\")\n",
    "np.random.seed(100)\n",
    "a = np.random.randint(0, 5, 10)\n",
    "a\n",
    "\n",
    "# Desired Output\n",
    "# > [False  True False  True False False  True  True  True  True]\n",
    "```"
   ]
  },
  {
   "cell_type": "code",
   "execution_count": null,
   "id": "fe06b465",
   "metadata": {},
   "outputs": [],
   "source": []
  },
  {
   "cell_type": "markdown",
   "id": "f22b3c30",
   "metadata": {
    "id": "DXzlfakxsbxp"
   },
   "source": [
    "#### Задание 59.\n",
    "```python\n",
    "# Q. Find the mean of a numeric column grouped by a categorical column in a 2D numpy array\n",
    "\n",
    "# Input\n",
    "# Use the iris dataset provided\n",
    "print(\"Input\")\n",
    "print_files()\n",
    "\n",
    "# Use this if you are working on your local machine\n",
    "# url = 'https://archive.ics.uci.edu/ml/machine-learning-databases/iris/iris.data'\n",
    "# iris = np.genfromtxt(url, delimiter=',', dtype='object')\n",
    "# names = ('sepallength', 'sepalwidth', 'petallength', 'petalwidth', 'species')\n",
    "\n",
    "# Desired Output\n",
    "# > [[b'Iris-setosa', 3.418],\n",
    "# >  [b'Iris-versicolor', 2.770],\n",
    "# >  [b'Iris-virginica', 2.974]]\n",
    "```"
   ]
  },
  {
   "cell_type": "code",
   "execution_count": null,
   "id": "18a56bd9",
   "metadata": {},
   "outputs": [],
   "source": []
  },
  {
   "cell_type": "markdown",
   "id": "c9ed4a1f",
   "metadata": {
    "id": "VSLP9gzLsbxp"
   },
   "source": [
    "#### Задание 60.\n",
    "```python\n",
    "# Q. Import the image from the following URL and convert it to a numpy array.\n",
    "\n",
    "# Input\n",
    "print(\"Input\")\n",
    "print_files()\n",
    "\n",
    "# Use this if you are working on your local machine\n",
    "# URL = 'https://upload.wikimedia.org/wikipedia/commons/8/8b/Denali_Mt_McKinley.jpg'\n",
    "```"
   ]
  },
  {
   "cell_type": "code",
   "execution_count": null,
   "id": "f99f0990",
   "metadata": {},
   "outputs": [],
   "source": []
  },
  {
   "cell_type": "markdown",
   "id": "8e982299",
   "metadata": {
    "id": "F97BLzK8sbxp"
   },
   "source": [
    "#### Задание 61.\n",
    "```python\n",
    "# Q. Drop all nan values from a 1D numpy array\n",
    "\n",
    "# Input\n",
    "print(\"Input\")\n",
    "a = np.array([1,2,3,np.nan,5,6,7,np.nan])\n",
    "a\n",
    "\n",
    "# Desired Output\n",
    "# array([ 1.,  2.,  3.,  5.,  6.,  7.])\n",
    "```"
   ]
  },
  {
   "cell_type": "code",
   "execution_count": null,
   "id": "3ac03ac5",
   "metadata": {},
   "outputs": [],
   "source": []
  },
  {
   "cell_type": "markdown",
   "id": "3e919dbd",
   "metadata": {
    "id": "ufSRaCDjsbxp"
   },
   "source": [
    "#### Задание 62.\n",
    "```python\n",
    "# Q. Compute the euclidean distance between two arrays a and b.\n",
    "\n",
    "# Input\n",
    "print(\"Input\")\n",
    "a = np.array([1,2,3,4,5])\n",
    "b = np.array([4,5,6,7,8])\n",
    "a\n",
    "b\n",
    "```"
   ]
  },
  {
   "cell_type": "code",
   "execution_count": null,
   "id": "726e21a7",
   "metadata": {},
   "outputs": [],
   "source": []
  },
  {
   "cell_type": "markdown",
   "id": "d1366c8f",
   "metadata": {
    "id": "-sJMgHQRsbxq"
   },
   "source": [
    "#### Задание 63.\n",
    "```python\n",
    "# Q. Find all the peaks in a 1D numpy array a. Peaks are points surrounded by smaller values on both sides.\n",
    "\n",
    "# Input\n",
    "print(\"Input\")\n",
    "a = np.array([1, 3, 7, 1, 2, 6, 0, 1])\n",
    "a\n",
    "\n",
    "# Desired Output\n",
    "# > array([2, 5])\n",
    "# where, 2 and 5 are the positions of peak values 7 and 6.\n",
    "```"
   ]
  },
  {
   "cell_type": "code",
   "execution_count": null,
   "id": "1380c84a",
   "metadata": {},
   "outputs": [],
   "source": []
  },
  {
   "cell_type": "markdown",
   "id": "e60cd5dc",
   "metadata": {
    "id": "ZO174MmGsbxq"
   },
   "source": [
    "#### Задание 64.\n",
    "```python\n",
    "# Q. Subtract the 1d array b_1d from the 2d array a_2d, such that each item of b_1d subtracts from respective row of a_2d.\n",
    "\n",
    "# Input\n",
    "print(\"Input\")\n",
    "a_2d = np.array([[3,3,3],[4,4,4],[5,5,5]])\n",
    "b_1d = np.array([1,2,3])\n",
    "a_2d\n",
    "b_1d\n",
    "\n",
    "# Desired Output\n",
    "# > [[2 2 2]\n",
    "# >  [2 2 2]\n",
    "# >  [2 2 2]]\n",
    "```"
   ]
  },
  {
   "cell_type": "code",
   "execution_count": null,
   "id": "7fbd2825",
   "metadata": {},
   "outputs": [],
   "source": []
  },
  {
   "cell_type": "markdown",
   "id": "9d74904b",
   "metadata": {
    "id": "d0GZhKZ8sbxq"
   },
   "source": [
    "#### Задание 65.\n",
    "```python\n",
    "# Q. Find the index of 5th repetition of number 1 in x.\n",
    "\n",
    "# Input\n",
    "print(\"Input\")\n",
    "x = np.array([1, 2, 1, 1, 3, 4, 3, 1, 1, 2, 1, 1, 2])\n",
    "x\n",
    "```"
   ]
  },
  {
   "cell_type": "code",
   "execution_count": null,
   "id": "6367c70e",
   "metadata": {},
   "outputs": [],
   "source": []
  },
  {
   "cell_type": "markdown",
   "id": "28fb1c43",
   "metadata": {
    "id": "XIcgNz-fsbxq"
   },
   "source": [
    "#### Задание 66.\n",
    "```python\n",
    "# Q. Convert numpy's datetime64 object to datetime's datetime object\n",
    "\n",
    "# Input\n",
    "print(\"Input\")\n",
    "dt64 = np.datetime64('2018-02-25 22:10:10')\n",
    "dt64\n",
    "```"
   ]
  },
  {
   "cell_type": "code",
   "execution_count": null,
   "id": "e18651f8",
   "metadata": {},
   "outputs": [],
   "source": []
  },
  {
   "cell_type": "markdown",
   "id": "dd771d04",
   "metadata": {
    "id": "IKBg-clusbxr"
   },
   "source": [
    "#### Задание 67.\n",
    "```python\n",
    "# Q. Compute the moving average of window size 3, for the given 1D array.\n",
    "\n",
    "# Input\n",
    "print(\"Input\")\n",
    "np.random.seed(100)\n",
    "a = np.random.randint(10, size=10)\n",
    "a\n",
    "```"
   ]
  },
  {
   "cell_type": "markdown",
   "id": "0de945c6",
   "metadata": {
    "id": "c_T3rIdzsbxr"
   },
   "source": [
    "#### Задание 68.\n",
    "```python\n",
    "# Q. Create a numpy array of length 10, starting from 5 and has a step of 3 between consecutive numbers\n",
    "```"
   ]
  },
  {
   "cell_type": "markdown",
   "id": "c0642f13",
   "metadata": {
    "id": "tUCJ5vT7sbxs"
   },
   "source": [
    "#### Задание 69.\n",
    "```python\n",
    "# Q. Given an array of a non-continuous sequence of dates. Make it a continuous sequence of dates, by filling in the missing dates.\n",
    "\n",
    "# Input\n",
    "print(\"Input\")\n",
    "dates = np.arange(np.datetime64('2018-02-01'), np.datetime64('2018-02-25'), 2)\n",
    "dates\n",
    "```"
   ]
  },
  {
   "cell_type": "markdown",
   "id": "bb5284f5",
   "metadata": {
    "id": "n0RSiXC1sbxs"
   },
   "source": [
    "#### Задание 70.\n",
    "```python\n",
    "# Q. From the given 1d array arr, generate a 2d matrix using strides, with a window length of 4 and strides of 2, like [[0,1,2,3], [2,3,4,5], [4,5,6,7]..]\n",
    "\n",
    "# Input\n",
    "print(\"Input\")\n",
    "arr = np.arange(15) \n",
    "arr\n",
    "\n",
    "# Desired Output\n",
    "# > [[ 0  1  2  3]\n",
    "# >  [ 2  3  4  5]\n",
    "# >  [ 4  5  6  7]\n",
    "# >  [ 6  7  8  9]\n",
    "# >  [ 8  9 10 11]\n",
    "# >  [10 11 12 13]]\n",
    "```"
   ]
  },
  {
   "cell_type": "code",
   "execution_count": null,
   "id": "1d651e85",
   "metadata": {},
   "outputs": [],
   "source": []
  }
 ],
 "metadata": {
  "kernelspec": {
   "display_name": "Python 3 (ipykernel)",
   "language": "python",
   "name": "python3"
  },
  "language_info": {
   "codemirror_mode": {
    "name": "ipython",
    "version": 3
   },
   "file_extension": ".py",
   "mimetype": "text/x-python",
   "name": "python",
   "nbconvert_exporter": "python",
   "pygments_lexer": "ipython3",
   "version": "3.9.7"
  }
 },
 "nbformat": 4,
 "nbformat_minor": 5
}
