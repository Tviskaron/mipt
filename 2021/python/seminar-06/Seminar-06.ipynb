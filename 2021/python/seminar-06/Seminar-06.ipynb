{
 "cells": [
  {
   "cell_type": "markdown",
   "metadata": {
    "colab_type": "text",
    "id": "dzNng6vCL9eP"
   },
   "source": [
    "## Семинар 6: ArgParse. JSON. YAML. pydantic."
   ]
  },
  {
   "cell_type": "markdown",
   "metadata": {},
   "source": [
    "## Разминка ([выражения генераторы](https://www.python.org/dev/peps/pep-0289/#the-details)) \n"
   ]
  },
  {
   "cell_type": "code",
   "execution_count": null,
   "metadata": {},
   "outputs": [],
   "source": [
    "# генератор\n",
    "a = [index for index in range(10)]\n",
    "print(a)"
   ]
  },
  {
   "cell_type": "code",
   "execution_count": null,
   "metadata": {},
   "outputs": [],
   "source": [
    "# выражение генератор (generator expression)\n",
    "a = (index for index in range(10))\n",
    "print(a)\n",
    "for value in a:\n",
    "    print(value, end=', ')"
   ]
  },
  {
   "cell_type": "code",
   "execution_count": null,
   "metadata": {},
   "outputs": [],
   "source": [
    "a = [1, 2, 3]\n",
    "b = [10, 20, 30]\n",
    "gen = (x + y for x in a for y in b)\n",
    "print(type(gen))\n",
    "a = [4, 5, 6]\n",
    "b = [400, 500, 600]\n",
    "print(list(gen))"
   ]
  },
  {
   "cell_type": "markdown",
   "metadata": {},
   "source": [
    "Что будет напечатано в результате?"
   ]
  },
  {
   "cell_type": "markdown",
   "metadata": {},
   "source": [
    "### ArgParse\n",
    "\n",
    "Модуль argparse упрощает написание интерфейсов командной строки.\n",
    "\n",
    "Программа определяет, какие аргументы ей требуются, а argparse выясняет, как их анализировать, используя sys.argv. Модуль argparse также автоматически генерирует справочные сообщения и сообщает об ошибках, когда пользователи вводят недопустимые аргументы.\n",
    "\n",
    "```python\n",
    "parser = ArgumentParser()\n",
    "\n",
    "parser.add_argument('--batch_size', default=32, type=int)\n",
    "parser.add_argument('--hidden_dim', type=int, default=128)\n",
    "    \n",
    "args = parser.parse_args()\n",
    "\n",
    "print(args)\n",
    "```\n",
    "\n",
    "Подробнее про определение аргументов: [argument-methods](https://docs.python.org/3/library/argparse.html#the-add-argument-method)\n",
    "\n",
    "После считывания аргументов без ошибок получим объект типа ```Namespase```:\n",
    "\n",
    "```python\n",
    ">>> Namespace(batch_size=32, hidden_dim=128)\n",
    "```\n",
    "\n",
    "К его поляем можно обращаться по имени:\n",
    "```python\n",
    "print(args.hidden_dim)\n",
    "\n",
    ">>> 128\n",
    "```\n",
    "\n",
    "Как это реализовано? Как посмотреть реализацию чего-либо?"
   ]
  },
  {
   "cell_type": "markdown",
   "metadata": {},
   "source": [
    "### JSON\n",
    "\n",
    "JSON (JavaScript Object Notation) - это облегченный формат обмена данными. Людям легко читать и писать(?), а комьютеры лего анализируют и генерируют его. JSON основан на подмножестве стандарта языка программирования JavaScript ECMA-262, 3-е издание - декабрь 1999 г. JSON - это текстовый формат, который полностью не зависит от языка, но использует соглашения, знакомые программистам семейства языков C, включая C, C ++, C #, Java, JavaScript, Perl, Python и многие другие. Эти свойства делают JSON идеальным языком обмена данными.\n",
    "\n",
    "Сохраним файл config.json со следующим содержанием:\n",
    "```json\n",
    "{\"batch_size\": 32, \"hidden_size\": 128}\n",
    "```\n",
    "\n",
    "Для того, чтобы прочитать файл можно воспользоваться командой ```json.load()```:\n",
    "\n",
    "```python\n",
    "import json \n",
    "\n",
    "with open('config.json', \"r\") as f:\n",
    "    config = json.load(f)\n",
    "print(config)\n",
    "```\n",
    "\n",
    "Пример сохранения данных в JSON:\n",
    "\n",
    "```python\n",
    "import json\n",
    "\n",
    "data = {\"accuracy\": 0.95}\n",
    "\n",
    "with open(\"data.json\", \"w\") as f:\n",
    "    json.dump(data, f)\n",
    "```"
   ]
  },
  {
   "cell_type": "markdown",
   "metadata": {},
   "source": [
    "## PyYaml\n",
    "Yaml $-$ это удобочитаемый язык сериализации данных. Обычно, для файлов используется формат ```.yaml```. Посмотрим пример, для удобства у нас будет использован не внешний файл, а строка:"
   ]
  },
  {
   "cell_type": "code",
   "execution_count": null,
   "metadata": {},
   "outputs": [],
   "source": [
    "import yaml\n",
    "\n",
    "document = \"\"\"\n",
    "a: 1\n",
    "b:\n",
    "    c: 3\n",
    "    d: 4\n",
    "e: [1, 2, 3]\n",
    "f:\n",
    "    - 1\n",
    "    - 2\n",
    "    - 3\n",
    "\n",
    "g: True\n",
    "h: hello #hello\n",
    "# z: 5 <- comment\n",
    "\n",
    "\"\"\"\n",
    "q = yaml.load(document, Loader=yaml.FullLoader)\n",
    "print(q)"
   ]
  },
  {
   "cell_type": "markdown",
   "metadata": {},
   "source": [
    "Если мы работаем с файлами, у нас точно также работают методы ```dump```:\n",
    "\n",
    "```python\n",
    "data = {'accuracy': 0.93}\n",
    "\n",
    "with open('data.yaml', 'w') as f:\n",
    "    data = yaml.dump(data, f)\n",
    "```\n",
    "\n",
    " и ```load```:\n",
    "\n",
    "```python\n",
    "with open(\"data.yaml\", \"r\") as f:\n",
    "    data = yaml.safe_load(f)\n",
    "```"
   ]
  },
  {
   "cell_type": "markdown",
   "metadata": {},
   "source": [
    "### pydantic\n",
    "\n",
    "Проверка данных и конфигураций с использованием аннотаций типа Python. Библиотека применяет подсказки типов во время выполнения и предоставляет удобные для пользователя ошибки, когда данные недействительны.\n",
    "\n",
    "*Define how data should be in pure, canonical python; validate it with pydantic.*"
   ]
  },
  {
   "cell_type": "code",
   "execution_count": null,
   "metadata": {},
   "outputs": [],
   "source": [
    "from datetime import datetime\n",
    "from typing import List, Optional\n",
    "from pydantic import BaseModel\n",
    "\n",
    "\n",
    "class User(BaseModel):\n",
    "    id: int\n",
    "    name = 'John Doe'\n",
    "    signup_ts: Optional[datetime] = None\n",
    "    friends: List[int] = []\n",
    "\n",
    "\n",
    "external_data = {\n",
    "    'id': '123',\n",
    "    'signup_ts': '2019-06-01 12:22',\n",
    "    'friends': [1, 2, '3'],\n",
    "}\n",
    "\n",
    "user = User(**external_data)\n",
    "\n",
    "print(user.id)"
   ]
  },
  {
   "cell_type": "markdown",
   "metadata": {},
   "source": [
    "Сложные проверки и сложные связи между объектами можно реализовать, используя декоратор ```validator```:"
   ]
  },
  {
   "cell_type": "code",
   "execution_count": null,
   "metadata": {},
   "outputs": [],
   "source": [
    "from pydantic import BaseModel, ValidationError, validator\n",
    "\n",
    "\n",
    "class UserModel(BaseModel):\n",
    "    name: str\n",
    "    username: str\n",
    "    password1: str\n",
    "    password2: str\n",
    "\n",
    "    @validator('name')\n",
    "    def name_must_contain_space(cls, v):\n",
    "        if ' ' not in v:\n",
    "            raise ValueError('must contain a space')\n",
    "        return v.title()\n",
    "\n",
    "    @validator('password2')\n",
    "    def passwords_match(cls, v, values, **kwargs):\n",
    "        if 'password1' in values and v != values['password1']:\n",
    "            raise ValueError('passwords do not match')\n",
    "        return v\n",
    "\n",
    "    @validator('username')\n",
    "    def username_alphanumeric(cls, v):\n",
    "        assert v.isalnum(), 'must be alphanumeric'\n",
    "        return v\n",
    "\n",
    "\n",
    "user = UserModel(\n",
    "    name='samuel colvin',\n",
    "    username='scolvin',\n",
    "    password1='zxcvbn',\n",
    "    password2='zxcvbn',\n",
    ")\n",
    "\n",
    "print(user)"
   ]
  },
  {
   "cell_type": "markdown",
   "metadata": {},
   "source": [
    "Чтобы получить данные в базовом формате – можно использовать метод ```dict```:"
   ]
  },
  {
   "cell_type": "code",
   "execution_count": null,
   "metadata": {},
   "outputs": [],
   "source": [
    "print(user.dict())"
   ]
  }
 ],
 "metadata": {
  "colab": {
   "collapsed_sections": [],
   "name": "colab-tutorial.ipynb",
   "provenance": []
  },
  "kernelspec": {
   "display_name": "Python 3 (ipykernel)",
   "language": "python",
   "name": "python3"
  },
  "language_info": {
   "codemirror_mode": {
    "name": "ipython",
    "version": 3
   },
   "file_extension": ".py",
   "mimetype": "text/x-python",
   "name": "python",
   "nbconvert_exporter": "python",
   "pygments_lexer": "ipython3",
   "version": "3.9.7"
  }
 },
 "nbformat": 4,
 "nbformat_minor": 1
}
