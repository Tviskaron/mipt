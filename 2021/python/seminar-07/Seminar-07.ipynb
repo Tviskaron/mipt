{
 "cells": [
  {
   "cell_type": "markdown",
   "metadata": {
    "colab_type": "text",
    "id": "dzNng6vCL9eP"
   },
   "source": [
    "## Семинар 7: Loguru. BS. Requests. Wandb."
   ]
  },
  {
   "cell_type": "markdown",
   "metadata": {},
   "source": [
    "## Логирование, библиотека Loguru:\n",
    "\n",
    "Loguru is a library which aims to bring enjoyable logging in Python."
   ]
  },
  {
   "cell_type": "code",
   "execution_count": null,
   "metadata": {},
   "outputs": [],
   "source": [
    "from loguru import logger\n",
    "\n",
    "logger.debug(\"That's it, beautiful and simple logging!\")"
   ]
  },
  {
   "cell_type": "code",
   "execution_count": null,
   "metadata": {},
   "outputs": [],
   "source": [
    "logger.add(\"out.log\", backtrace=True, diagnose=True)  # Caution, may leak sensitive data in prod\n",
    "\n",
    "def func(a, b):\n",
    "    return a / b\n",
    "\n",
    "def nested(c):\n",
    "    try:\n",
    "        func(5, c)\n",
    "    except ZeroDivisionError:\n",
    "        logger.exception(\"What?!\")\n",
    "\n",
    "nested(0)"
   ]
  },
  {
   "cell_type": "markdown",
   "metadata": {},
   "source": [
    "Рассмотрим подробнее в [документации](https://github.com/Delgan/loguru)"
   ]
  },
  {
   "cell_type": "markdown",
   "metadata": {},
   "source": [
    "### Извлечение данных из ```xml``` и ```html``` файлов. Библиотека Beautiful Soup:\n",
    "\n",
    "Начнем с искусственного примера:"
   ]
  },
  {
   "cell_type": "code",
   "execution_count": null,
   "metadata": {},
   "outputs": [],
   "source": [
    "html_doc = \"\"\"<html><head><title>The Dormouse's story</title></head>\n",
    "<body>\n",
    "<p class=\"title\"><b>The Dormouse's story</b></p>\n",
    "\n",
    "<p class=\"story\">Once upon a time there were three little sisters; and their names were\n",
    "<a href=\"http://example.com/elsie\" class=\"sister\" id=\"link1\">Elsie</a>,\n",
    "<a href=\"http://example.com/lacie\" class=\"sister\" id=\"link2\">Lacie</a> and\n",
    "<a href=\"http://example.com/tillie\" class=\"sister\" id=\"link3\">Tillie</a>;\n",
    "and they lived at the bottom of a well.</p>\n",
    "\n",
    "<p class=\"story\">...</p>\n",
    "\"\"\""
   ]
  },
  {
   "cell_type": "markdown",
   "metadata": {},
   "source": [
    "Парсим html данные:"
   ]
  },
  {
   "cell_type": "code",
   "execution_count": null,
   "metadata": {},
   "outputs": [],
   "source": [
    "from bs4 import BeautifulSoup\n",
    "soup = BeautifulSoup(html_doc, 'html.parser')"
   ]
  },
  {
   "cell_type": "markdown",
   "metadata": {},
   "source": [
    "Теперь напечатаем код странички с форматированием:"
   ]
  },
  {
   "cell_type": "code",
   "execution_count": null,
   "metadata": {},
   "outputs": [],
   "source": [
    "print(soup.prettify())"
   ]
  },
  {
   "cell_type": "markdown",
   "metadata": {},
   "source": [
    "Библиотека позволяет перемещаться по DOM дереву и получать нужные нам элементы:\n",
    "\n",
    "### ```title```"
   ]
  },
  {
   "cell_type": "code",
   "execution_count": null,
   "metadata": {},
   "outputs": [],
   "source": [
    "print(soup.title)"
   ]
  },
  {
   "cell_type": "markdown",
   "metadata": {},
   "source": [
    "### ```title.name```"
   ]
  },
  {
   "cell_type": "code",
   "execution_count": null,
   "metadata": {},
   "outputs": [],
   "source": [
    "print(soup.title.name)"
   ]
  },
  {
   "cell_type": "markdown",
   "metadata": {},
   "source": [
    "### ```title.string```"
   ]
  },
  {
   "cell_type": "code",
   "execution_count": null,
   "metadata": {},
   "outputs": [],
   "source": [
    "print(soup.title.string)"
   ]
  },
  {
   "cell_type": "markdown",
   "metadata": {},
   "source": [
    "### ```title.parent.name```"
   ]
  },
  {
   "cell_type": "code",
   "execution_count": null,
   "metadata": {},
   "outputs": [],
   "source": [
    "print(soup.title.parent.name)"
   ]
  },
  {
   "cell_type": "markdown",
   "metadata": {},
   "source": [
    "### ```p```"
   ]
  },
  {
   "cell_type": "code",
   "execution_count": null,
   "metadata": {},
   "outputs": [],
   "source": [
    "print(soup.p)"
   ]
  },
  {
   "cell_type": "markdown",
   "metadata": {},
   "source": [
    "### ```p['class']```"
   ]
  },
  {
   "cell_type": "code",
   "execution_count": null,
   "metadata": {},
   "outputs": [],
   "source": [
    "print(soup.p['class'])"
   ]
  },
  {
   "cell_type": "markdown",
   "metadata": {},
   "source": [
    "### ```a```"
   ]
  },
  {
   "cell_type": "code",
   "execution_count": null,
   "metadata": {},
   "outputs": [],
   "source": [
    "print(soup.a)"
   ]
  },
  {
   "cell_type": "markdown",
   "metadata": {},
   "source": [
    "### ```find_all```"
   ]
  },
  {
   "cell_type": "code",
   "execution_count": null,
   "metadata": {},
   "outputs": [],
   "source": [
    "for a in soup.find_all('a'):\n",
    "    print(a)"
   ]
  },
  {
   "cell_type": "markdown",
   "metadata": {},
   "source": [
    "### ```find```"
   ]
  },
  {
   "cell_type": "code",
   "execution_count": null,
   "metadata": {},
   "outputs": [],
   "source": [
    "print(soup.find(id=\"link3\"))"
   ]
  },
  {
   "cell_type": "markdown",
   "metadata": {},
   "source": [
    "### Пример парсинга данных из сети:"
   ]
  },
  {
   "cell_type": "code",
   "execution_count": null,
   "metadata": {},
   "outputs": [],
   "source": [
    "import requests\n",
    "from bs4 import BeautifulSoup\n",
    "import re"
   ]
  },
  {
   "cell_type": "markdown",
   "metadata": {},
   "source": [
    "[Requests](Requests) is an elegant and simple HTTP library for Python, built for human beings.\n",
    "\n",
    "Requests позволяет очень легко отправлять HTTP/1.1 запросы, без необходимости  вручную добавлять query строки к своим URL-адресам или кодировать данные POST. "
   ]
  },
  {
   "cell_type": "code",
   "execution_count": null,
   "metadata": {},
   "outputs": [],
   "source": [
    "requests.get(\"http://rbc.ru/\")"
   ]
  },
  {
   "cell_type": "markdown",
   "metadata": {},
   "source": [
    "Можем посмотреть всю сопутствующую запросу информацию:"
   ]
  },
  {
   "cell_type": "code",
   "execution_count": null,
   "metadata": {},
   "outputs": [],
   "source": [
    "%%time\n",
    "resp=requests.get(\"https://lenta.ru/brief/2019/03/25/apple/\")\n",
    "print(\"cookies:\", resp.cookies)\n",
    "print(\"time to download:\", resp.elapsed)\n",
    "print(\"page encoding\", resp.encoding)\n",
    "print(\"Server response: \", resp.status_code)\n",
    "print(\"Is everything ok? \", resp.ok)\n",
    "print(\"Page's URL: \", resp.url)"
   ]
  },
  {
   "cell_type": "markdown",
   "metadata": {},
   "source": [
    "И сам текст:"
   ]
  },
  {
   "cell_type": "code",
   "execution_count": null,
   "metadata": {},
   "outputs": [],
   "source": [
    "resp.text[:1000]"
   ]
  },
  {
   "cell_type": "code",
   "execution_count": null,
   "metadata": {},
   "outputs": [],
   "source": [
    "BeautifulSoup(resp.text, \"html.parser\").get_text()[:1000]"
   ]
  },
  {
   "cell_type": "markdown",
   "metadata": {},
   "source": [
    "Разбиваем по параграфам и получаем нужный результат:"
   ]
  },
  {
   "cell_type": "code",
   "execution_count": null,
   "metadata": {},
   "outputs": [],
   "source": [
    "bs=BeautifulSoup(resp.text, \"html.parser\")\n",
    "title=bs.h1.text\n",
    "text=BeautifulSoup(\" \".join([p.text for p in bs.find_all(\"p\")]), \"html.parser\").get_text()\n",
    "print(title, \"\\n-----\\n\", text)"
   ]
  },
  {
   "cell_type": "markdown",
   "metadata": {},
   "source": [
    "## Логирование/отслеживание экспериментов (Experiment tracking). Weights & Biases."
   ]
  },
  {
   "cell_type": "markdown",
   "metadata": {},
   "source": [
    "\n",
    "Чтобы результаты записывались в облако, нужно залогиниться. Предоставить свой api-key. Самый простой способ - использование консоли:\n",
    "```bash \n",
    "$ wandb login\n",
    "```"
   ]
  },
  {
   "cell_type": "code",
   "execution_count": null,
   "metadata": {},
   "outputs": [],
   "source": [
    "import wandb\n",
    "wandb.login()"
   ]
  },
  {
   "cell_type": "markdown",
   "metadata": {},
   "source": [
    "Посмотрим на следующий псевдо-эксперимент:"
   ]
  },
  {
   "cell_type": "code",
   "execution_count": null,
   "metadata": {},
   "outputs": [],
   "source": [
    "import math\n",
    "import random\n",
    "\n",
    "# Start a new run, tracking hyperparameters in config\n",
    "wandb.init(project=\"test-drive\", config={\n",
    "    \"learning_rate\": 0.01,\n",
    "    \"dropout\": 0.2,\n",
    "    \"architecture\": \"CNN\",\n",
    "    \"dataset\": \"CIFAR-100\",\n",
    "})\n",
    "config = wandb.config\n",
    "\n",
    "# Simulating a training or evaluation loop\n",
    "for x in range(50):\n",
    "    acc = math.log(1 + x + random.random()*config.learning_rate) + random.random() + config.dropout\n",
    "    loss = 10 - math.log(1 + x + random.random() + config.learning_rate*x) + random.random() + config.dropout\n",
    "    # Log metrics from your script to W&B\n",
    "    wandb.log({\"acc\":acc, \"loss\":loss})"
   ]
  },
  {
   "cell_type": "markdown",
   "metadata": {},
   "source": [
    "По ссылке выше можно смотреть результаты. Данные по одному проекту собираются вместе и их можно сравнивать. Запустите ячейку с этим экспериментов еще один раз и посмотрите, что произойдет."
   ]
  },
  {
   "cell_type": "markdown",
   "metadata": {},
   "source": [
    "Разберем еще несколько примеров:"
   ]
  },
  {
   "cell_type": "code",
   "execution_count": null,
   "metadata": {},
   "outputs": [],
   "source": [
    "# Simple Keras Model\n",
    "\n",
    "import tensorflow as tf\n",
    "from tensorflow.keras.callbacks import Callback\n",
    "from wandb.keras import WandbCallback\n",
    "\n",
    "# Set an experiment name to group training and evaluation\n",
    "experiment_name = wandb.util.generate_id()\n",
    "\n",
    "# Start a run, tracking hyperparameters\n",
    "wandb.init(\n",
    "  project=\"intro-demo\",\n",
    "  group=experiment_name,\n",
    "  config={\n",
    "    \"layer_1\": 512,\n",
    "    \"activation_1\": \"relu\",\n",
    "    \"dropout\": 0.2,\n",
    "    \"layer_2\": 10,\n",
    "    \"activation_2\": \"softmax\",\n",
    "    \"optimizer\": \"sgd\",\n",
    "    \"loss\": \"sparse_categorical_crossentropy\",\n",
    "    \"metric\": \"accuracy\",\n",
    "    \"epoch\": 50,\n",
    "    \"batch_size\": 32\n",
    "  })\n",
    "config = wandb.config\n",
    "\n",
    "# Get the data\n",
    "mnist = tf.keras.datasets.mnist\n",
    "(x_train, y_train), (x_test, y_test) = mnist.load_data()\n",
    "x_train, x_test = x_train / 255.0, x_test / 255.0\n",
    "\n",
    "# Build a model\n",
    "model = tf.keras.models.Sequential([\n",
    "    tf.keras.layers.Flatten(input_shape=(28, 28)),\n",
    "    tf.keras.layers.Dense(config.layer_1, activation=config.activation_1),\n",
    "    tf.keras.layers.Dropout(config.dropout),\n",
    "    tf.keras.layers.Dense(config.layer_2, activation=config.activation_2)\n",
    "])\n",
    "model.compile(optimizer=config.optimizer,\n",
    "              loss=config.loss,\n",
    "              metrics=[config.metric]\n",
    "              )\n",
    "\n",
    "history = model.fit(x=x_train,\n",
    "                    y=y_train,\n",
    "                    epochs=config.epoch,\n",
    "                    batch_size=config.batch_size,\n",
    "                    validation_data=(x_test, y_test),\n",
    "                    # Use the WandbCallback to automatically save all the metrics tracked in model.fit() to your dashboard\n",
    "                    callbacks=[WandbCallback()])"
   ]
  },
  {
   "cell_type": "markdown",
   "metadata": {},
   "source": [
    "Можем дополнительно поработать с результатами локально и сохранить их в wandb:"
   ]
  },
  {
   "cell_type": "code",
   "execution_count": null,
   "metadata": {},
   "outputs": [],
   "source": [
    "!pip install scikit-plot -qqq\n",
    "\n",
    "import numpy as np\n",
    "from sklearn.metrics import f1_score\n",
    "import matplotlib.pyplot as plt\n",
    "from scikitplot.metrics import plot_confusion_matrix, plot_roc\n",
    "\n",
    "wandb.init(project=\"intro-demo\", group=experiment_name)\n",
    "\n",
    "# Log F1 Score\n",
    "y_test_pred = np.asarray(model.predict(x_test))\n",
    "y_test_pred_class = np.argmax(y_test_pred, axis=1)\n",
    "f1 = f1_score(y_test, y_test_pred_class, average='micro')\n",
    "wandb.log({\"f1\": f1}, commit=False)\n",
    "\n",
    "# Log Confusion Matrix\n",
    "fig, ax = plt.subplots(figsize=(16, 12))\n",
    "plot_confusion_matrix(y_test, y_test_pred_class, ax=ax)\n",
    "wandb.log({\"confusion_matrix\": wandb.Image(fig)}, commit=False)\n",
    "\n",
    "# Log ROC Curve\n",
    "fig, ax = plt.subplots(figsize=(16, 12))\n",
    "plot_roc(y_test, y_test_pred, ax=ax)\n",
    "wandb.log({\"plot_roc\": wandb.Image(fig)}, commit=True)\n",
    "\n",
    "class_score_data = []\n",
    "for test, pred in zip(y_test, y_test_pred):\n",
    "      class_score_data.append([test, pred])\n",
    "wandb.log({\"class_scores\": wandb.Table(data=class_score_data,\n",
    "                                           columns=[\"test\", \"pred\"])})"
   ]
  },
  {
   "cell_type": "markdown",
   "metadata": {},
   "source": [
    "### Лучшие практики:\n",
    "\n",
    "\n",
    "Projects: Логируйте несколько запусков в один проект, чтобы затем сравнить их. ```wandb.init(project=\"project-name\")```\n",
    "\n",
    "Groups: Используйте группы, для группировки нескольки процессов одного эксперимента. ```wandb.init(group='experiment-1')```\n",
    "\n",
    "Tags: Используйте тэги для индикации лучшей модели или текущего бейслайна.\n",
    "\n",
    "Notes: Записывайте дополнительные комментарий к каждому запуску. \n",
    "\n",
    "Reports: Создавайте отчеты по группам экспериментов. \n"
   ]
  },
  {
   "cell_type": "markdown",
   "metadata": {},
   "source": [
    "### Дополнительные возможности:\n",
    "\n",
    "1. Определение [переменных окружения](https://docs.wandb.com/library/environment-variables) (Environment variables). \n",
    "\n",
    "2. [Offline mode](https://docs.wandb.com/library/technical-faq#can-i-run-wandb-offline): Используйте `dryrun` режим, для тренировки офлайн, а синхронизацию можно будет сделать позже.\n",
    "\n",
    "3. [Sweeps](https://docs.wandb.com/sweeps): Позволяют подбирать гиперпараметры просто и быстро.\n",
    "\n",
    "5. [Artifacts](https://docs.wandb.com/artifacts): Позволяет контролить версии моделей и датасетов.\n",
    "\n",
    "На этом возможности не ограничиваются. Примеры можно найти в галерее: https://wandb.ai/gallery. "
   ]
  },
  {
   "cell_type": "markdown",
   "metadata": {},
   "source": [
    "### Задание 1: Зарегистрируйтесь в wandb. Запустите один из экспериментов выше. Добавьте дополнительные переменные. Постройте графики к ним. Создайте отчет. "
   ]
  },
  {
   "cell_type": "code",
   "execution_count": null,
   "metadata": {},
   "outputs": [],
   "source": []
  },
  {
   "cell_type": "markdown",
   "metadata": {},
   "source": [
    "### Задание 2*: Запустите Sweeps для подбора гиперпараметров."
   ]
  },
  {
   "cell_type": "code",
   "execution_count": null,
   "metadata": {},
   "outputs": [],
   "source": []
  }
 ],
 "metadata": {
  "colab": {
   "collapsed_sections": [],
   "name": "colab-tutorial.ipynb",
   "provenance": []
  },
  "kernelspec": {
   "display_name": "Python 3 (ipykernel)",
   "language": "python",
   "name": "python3"
  },
  "language_info": {
   "codemirror_mode": {
    "name": "ipython",
    "version": 3
   },
   "file_extension": ".py",
   "mimetype": "text/x-python",
   "name": "python",
   "nbconvert_exporter": "python",
   "pygments_lexer": "ipython3",
   "version": "3.9.7"
  }
 },
 "nbformat": 4,
 "nbformat_minor": 1
}
