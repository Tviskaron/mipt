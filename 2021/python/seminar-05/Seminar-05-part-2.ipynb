{
 "cells": [
  {
   "cell_type": "markdown",
   "metadata": {
    "colab_type": "text",
    "id": "dzNng6vCL9eP"
   },
   "source": [
    "## Семинар 5: Часть 2: Type Annotation, MynkeyType,  Virtual Environments, Packaging "
   ]
  },
  {
   "cell_type": "markdown",
   "metadata": {},
   "source": [
    "## Аннотация типов (Type Annotation)\n",
    "\n",
    "Аннотации типов просто считываются интерпретатором Python и никак более не обрабатываются, если мы импортируем сторонний аннотированный код, то на нас это никак не повлияет. В первую очередь аннотация типов рассчитана на работу со статическими аналазаторами. \n",
    "\n",
    "\n",
    "В самом простом случае аннотацией содержит ожидамеый тип:\n",
    "\n",
    "```python\n",
    "name: str = Petya\n",
    "```\n",
    "\n",
    "Можем ли мы получить какую-то ошибку с аннотацией типов после фазы статистического анализа, при выполнении кода?\n",
    "\n",
    "\n",
    "\n"
   ]
  },
  {
   "cell_type": "code",
   "execution_count": 1,
   "metadata": {},
   "outputs": [
    {
     "name": "stdout",
     "output_type": "stream",
     "text": [
      "100$\n"
     ]
    }
   ],
   "source": [
    "price: int \n",
    "price = '100$' # Incompatible types in assignment (только при стат. анализе!)\n",
    "\n",
    "print(price)"
   ]
  },
  {
   "cell_type": "markdown",
   "metadata": {},
   "source": [
    "Мы можем аннотировать и параметры функций:\n",
    "\n",
    "```python\n",
    "def render_text_block(self, line: str) -> str:\n",
    "    ...\n",
    "```"
   ]
  },
  {
   "cell_type": "markdown",
   "metadata": {},
   "source": [
    "### Optional\n",
    "Если вы пемечаете переменную типов ```int``` и пытаетесь присвоить ей ```None```, будет ошибка ```Incompatible types```. Для таких случаем в модуле typing предусмотрен тип ```Optional``` (именно для возможности ```None```). \n"
   ]
  },
  {
   "cell_type": "code",
   "execution_count": 25,
   "metadata": {},
   "outputs": [
    {
     "name": "stdout",
     "output_type": "stream",
     "text": [
      "False\n",
      "False\n"
     ]
    }
   ],
   "source": [
    "from typing import Optional\n",
    "\n",
    "def check_price(price: Optional[int] = None) -> bool:\n",
    "    if price is None:\n",
    "        return False\n",
    "    else: \n",
    "        return price > 0\n",
    "\n",
    "print(check_price())\n",
    "print(check_price(-1))"
   ]
  },
  {
   "cell_type": "markdown",
   "metadata": {},
   "source": [
    "### Any\n",
    "Иногда вы не хотите ограничивать возможные типы переменной. Например, если это действительно не важно, или если вы планируете сделать обработку разных типов самостоятельно. В этом случае, можно использовать аннотацию ```Any```."
   ]
  },
  {
   "cell_type": "code",
   "execution_count": 26,
   "metadata": {},
   "outputs": [],
   "source": [
    "from typing import Any\n",
    "\n",
    "smth: Any = 42 \n",
    "smth = '42'"
   ]
  },
  {
   "cell_type": "markdown",
   "metadata": {},
   "source": [
    "### Union\n",
    "\n",
    "Для случаев, когда необходимо допустить использование не любых типов, а только некоторых, можно использовать аннотацию ```typing.Union``` с указанием списка типов в квадратных скобках."
   ]
  },
  {
   "cell_type": "code",
   "execution_count": 28,
   "metadata": {},
   "outputs": [
    {
     "name": "stdout",
     "output_type": "stream",
     "text": [
      "4\n",
      "4.0\n"
     ]
    },
    {
     "ename": "TypeError",
     "evalue": "unsupported operand type(s) for ** or pow(): 'str' and 'int'",
     "output_type": "error",
     "traceback": [
      "\u001b[0;31m---------------------------------------------------------------------------\u001b[0m",
      "\u001b[0;31mTypeError\u001b[0m                                 Traceback (most recent call last)",
      "\u001b[0;32m<ipython-input-28-14c3ff0637ef>\u001b[0m in \u001b[0;36m<module>\u001b[0;34m\u001b[0m\n\u001b[1;32m      6\u001b[0m \u001b[0mprint\u001b[0m\u001b[0;34m(\u001b[0m\u001b[0msquare\u001b[0m\u001b[0;34m(\u001b[0m\u001b[0;36m2\u001b[0m\u001b[0;34m)\u001b[0m\u001b[0;34m)\u001b[0m\u001b[0;34m\u001b[0m\u001b[0;34m\u001b[0m\u001b[0m\n\u001b[1;32m      7\u001b[0m \u001b[0mprint\u001b[0m\u001b[0;34m(\u001b[0m\u001b[0msquare\u001b[0m\u001b[0;34m(\u001b[0m\u001b[0;36m2.0\u001b[0m\u001b[0;34m)\u001b[0m\u001b[0;34m)\u001b[0m\u001b[0;34m\u001b[0m\u001b[0;34m\u001b[0m\u001b[0m\n\u001b[0;32m----> 8\u001b[0;31m \u001b[0mprint\u001b[0m\u001b[0;34m(\u001b[0m\u001b[0msquare\u001b[0m\u001b[0;34m(\u001b[0m\u001b[0;34m\"2\"\u001b[0m\u001b[0;34m)\u001b[0m\u001b[0;34m)\u001b[0m \u001b[0;31m# Argument 1 to \"2\" has incompatible type \"str\"; expected \"Union[int, float]\"\u001b[0m\u001b[0;34m\u001b[0m\u001b[0;34m\u001b[0m\u001b[0m\n\u001b[0m",
      "\u001b[0;32m<ipython-input-28-14c3ff0637ef>\u001b[0m in \u001b[0;36msquare\u001b[0;34m(x)\u001b[0m\n\u001b[1;32m      2\u001b[0m \u001b[0;34m\u001b[0m\u001b[0m\n\u001b[1;32m      3\u001b[0m \u001b[0;32mdef\u001b[0m \u001b[0msquare\u001b[0m\u001b[0;34m(\u001b[0m\u001b[0mx\u001b[0m\u001b[0;34m:\u001b[0m \u001b[0mUnion\u001b[0m\u001b[0;34m[\u001b[0m\u001b[0mint\u001b[0m\u001b[0;34m,\u001b[0m \u001b[0mfloat\u001b[0m\u001b[0;34m]\u001b[0m\u001b[0;34m)\u001b[0m \u001b[0;34m->\u001b[0m \u001b[0mUnion\u001b[0m\u001b[0;34m[\u001b[0m\u001b[0mint\u001b[0m\u001b[0;34m,\u001b[0m \u001b[0mfloat\u001b[0m\u001b[0;34m]\u001b[0m\u001b[0;34m:\u001b[0m\u001b[0;34m\u001b[0m\u001b[0;34m\u001b[0m\u001b[0m\n\u001b[0;32m----> 4\u001b[0;31m     \u001b[0;32mreturn\u001b[0m \u001b[0mx\u001b[0m \u001b[0;34m**\u001b[0m \u001b[0;36m2\u001b[0m\u001b[0;34m\u001b[0m\u001b[0;34m\u001b[0m\u001b[0m\n\u001b[0m\u001b[1;32m      5\u001b[0m \u001b[0;34m\u001b[0m\u001b[0m\n\u001b[1;32m      6\u001b[0m \u001b[0mprint\u001b[0m\u001b[0;34m(\u001b[0m\u001b[0msquare\u001b[0m\u001b[0;34m(\u001b[0m\u001b[0;36m2\u001b[0m\u001b[0;34m)\u001b[0m\u001b[0;34m)\u001b[0m\u001b[0;34m\u001b[0m\u001b[0;34m\u001b[0m\u001b[0m\n",
      "\u001b[0;31mTypeError\u001b[0m: unsupported operand type(s) for ** or pow(): 'str' and 'int'"
     ]
    }
   ],
   "source": [
    "from typing import Union\n",
    "\n",
    "def square(x: Union[int, float]) -> Union[int, float]:\n",
    "    return x ** 2\n",
    "\n",
    "print(square(2))\n",
    "print(square(2.0))\n",
    "print(square(\"2\")) # Argument 1 to \"2\" has incompatible type \"str\"; expected \"Union[int, float]\""
   ]
  },
  {
   "cell_type": "markdown",
   "metadata": {},
   "source": [
    "### Списки (Lists)\n",
    "\n",
    "Для того, чтобы указать, что переменная содержит список, мы можем просто указать ```list```, как ее тип.\n",
    "```python\n",
    "a: list = [1, 2, 3]\n",
    "```\n",
    "Однако, если нам нужно конкретизировать какие элементы этот список может содержать, нам нужно воспользоваться ```typing.List```:"
   ]
  },
  {
   "cell_type": "code",
   "execution_count": 15,
   "metadata": {},
   "outputs": [],
   "source": [
    "from typing import List\n",
    "\n",
    "authors: List[str] = ['James Joyce', 'Stephen King']"
   ]
  },
  {
   "cell_type": "markdown",
   "metadata": {},
   "source": [
    "Пробуем создать матрешку из нескольких типов.\n",
    "Пусть у нас есть ```example.py`` следующего содержания:\n",
    "```python\n",
    "from typing import List, Union\n",
    "\n",
    "a: List[Union[int, float]] = [1.0, 2]\n",
    "```\n",
    "\n",
    "Теперь вызываем ```mypy```:\n",
    "```bash\n",
    "$ mypy example1.py\n",
    "\n",
    "Success: no issues found in 1 source file\n",
    "```"
   ]
  },
  {
   "cell_type": "markdown",
   "metadata": {},
   "source": [
    "### Кортежи (Tuples)\n",
    "\n",
    "Новым тут является то, что мы можем указать тип для каждой позиции кортежа:"
   ]
  },
  {
   "cell_type": "code",
   "execution_count": 18,
   "metadata": {},
   "outputs": [],
   "source": [
    "from typing import Tuple\n",
    "\n",
    "author_with_age: Tuple[str, int] = ('Stephen King', 73)"
   ]
  },
  {
   "cell_type": "markdown",
   "metadata": {},
   "source": [
    "### Словари (Dicts)"
   ]
  },
  {
   "cell_type": "code",
   "execution_count": 19,
   "metadata": {},
   "outputs": [],
   "source": [
    "from typing import Dict\n",
    "\n",
    "book_authors: Dict[str, str] = {\"Fahrenheit 451\": \"Bradbury\"}"
   ]
  },
  {
   "cell_type": "markdown",
   "metadata": {},
   "source": [
    "### Свои классы (Classes)"
   ]
  },
  {
   "cell_type": "code",
   "execution_count": 21,
   "metadata": {},
   "outputs": [],
   "source": [
    "class MyClass:\n",
    "    pass\n",
    "\n",
    "foo: MyClass = MyClass()"
   ]
  },
  {
   "cell_type": "markdown",
   "metadata": {},
   "source": [
    "### Статические анализаторы\n",
    "\n",
    "Входят по-умолчанию во многие IDE и выдают подсказки в процессе набора. (см. [PyCharm](https://www.jetbrains.com/pycharm/)). \n",
    "\n",
    "Существую консольные линтеры (см. [PyLint](https://www.pylint.org/), см. [MyPy](https://github.com/python/mypy)). \n",
    "\n",
    "Исходник ```example.py```: \n",
    "```python\n",
    "price: int \n",
    "price = '100$'\n",
    "```\n",
    "\n",
    "Проверка:\n",
    "``` bash\n",
    "$ mypy example.py\n",
    "\n",
    "example.py:2: error: Incompatible types in assignment (expression has type \"str\", variable has type \"int\")\n",
    "Found 1 error in 1 file (checked 1 source file)\n",
    "```"
   ]
  },
  {
   "cell_type": "markdown",
   "metadata": {},
   "source": [
    "Как поступить если у нас много кода без аннотации, но мы ценим время наших программистов?"
   ]
  },
  {
   "cell_type": "markdown",
   "metadata": {},
   "source": [
    "### MonkeyType\n",
    "\n",
    "[MonkeyType](https://github.com/Instagram/MonkeyType)  collects runtime types of function arguments and return values, and can automatically generate stub files or even add draft type annotations directly to your Python code based on the types collected at runtime."
   ]
  },
  {
   "cell_type": "markdown",
   "metadata": {},
   "source": [
    "## Виртуальные окружения (virtual environments)\n",
    "\n",
    "Виртуальные окружения – это прежде всего изолированные среды, которые позволяют вам разрабатывать несколько проектов так, чтобы они не зависели друг от друга. \n",
    "\n",
    "\n",
    "Для пользователей Windows рекомендуется установить виртуально Ubuntu 20.04 LTS, сделать это можно через магазин приложений microsoft store. Установить python3 вам нужно самостоятельно 😉\n",
    "\n",
    "Если у вас еще не установлен модуль venv: \n",
    "```bash\n",
    "pip install virtualenv\n",
    "```"
   ]
  },
  {
   "cell_type": "markdown",
   "metadata": {},
   "source": [
    "#### Создание и использование виртуального окружения:\n",
    "Создаем вирутальное оркужение:\n",
    "```bash\n",
    "python -m venv env\n",
    "```\n",
    "\n",
    "```env``` – папка в которой виртуальное окружение будет создано\n",
    "\n",
    "Для активации вызываем команду:\n",
    "```bash\n",
    "source env/bin/activate\n",
    "```\n",
    "\n",
    "Когда окружение активировано команды установки пакетов будут действовать только для него. Давайте установим пакет monkeytype:\n",
    "```bash\n",
    "pip install monkeytype\n",
    "```\n",
    "\n",
    "Теперь посмотрим на список пакетов, которые появились в нашем окружении:\n",
    "\n",
    "```bash\n",
    "pip freeze\n",
    "```\n",
    "\n",
    "```bash\n",
    "libcst==0.3.21\n",
    "MonkeyType==21.5.0\n",
    "mypy-extensions==0.4.3\n",
    "PyYAML==5.4.1\n",
    "typing-extensions==3.10.0.2\n",
    "typing-inspect==0.7.1\n",
    "```"
   ]
  },
  {
   "cell_type": "markdown",
   "metadata": {},
   "source": [
    "#### Указание зависимостей для вашего приложения \n",
    "\n",
    "Если вы пишите какое-то приложение на python, то хорошим тоном считается добавление файла ```requirements.txt```, в котором указаны все необходимые зависиомсти.\n",
    "\n",
    "Создать такой файл можно используя выход команды ```pip freeze```. \n",
    "\n",
    "Удобно установить все зависимости для приложения можно используя флаг ```-r```:\n",
    "\n",
    "```bash\n",
    "pip install -r requirements.txt\n",
    "```\n",
    "\n",
    "Сам файл при этом может выглядеть например вот так:\n",
    "```\n",
    "\n",
    "```"
   ]
  },
  {
   "cell_type": "markdown",
   "metadata": {},
   "source": [
    "## Создание своих python пакетов (packaging)\n",
    "\n",
    "Посмотрим на файл ```setup.py``` из репозитория MonkeyType:\n",
    "\n",
    "```python\n",
    "# Copyright (c) 2017-present, Facebook, Inc.\n",
    "# All rights reserved.\n",
    "#\n",
    "# This source code is licensed under the BSD-style license found in the\n",
    "# LICENSE file in the root directory of this source tree.\n",
    "\n",
    "import os\n",
    "from setuptools import setup, find_packages\n",
    "\n",
    "\n",
    "def long_desc(root_path):\n",
    "    FILES = ['README.rst', 'CHANGES.rst']\n",
    "    for filename in FILES:\n",
    "        filepath = os.path.realpath(os.path.join(root_path, filename))\n",
    "        if os.path.isfile(filepath):\n",
    "            with open(filepath, mode='r') as f:\n",
    "                yield f.read()\n",
    "\n",
    "\n",
    "HERE = os.path.abspath(os.path.dirname(__file__))\n",
    "long_description = \"\\n\\n\".join(long_desc(HERE))\n",
    "\n",
    "\n",
    "def get_version(root_path):\n",
    "    with open(os.path.join(root_path, 'monkeytype', '__init__.py')) as f:\n",
    "        for line in f:\n",
    "            if line.startswith('__version__ ='):\n",
    "                return line.split('=')[1].strip().strip('\"\\'')\n",
    "\n",
    "\n",
    "setup(\n",
    "    name='MonkeyType',\n",
    "    version=get_version(HERE),\n",
    "    license=\"BSD\",\n",
    "    description='Generating type annotations from sampled production types',\n",
    "    long_description=long_description,\n",
    "    author='Matt Page',\n",
    "    author_email='mpage@instagram.com',\n",
    "    url='https://github.com/instagram/MonkeyType',\n",
    "    packages=find_packages(exclude=['tests*']),\n",
    "    package_data={\"monkeytype\": [\"py.typed\"]},\n",
    "    entry_points={\n",
    "        'console_scripts': [\n",
    "            'monkeytype=monkeytype.cli:entry_point_main'\n",
    "        ]\n",
    "    },\n",
    "    python_requires='>=3.6',\n",
    "    install_requires=['mypy_extensions', 'libcst>=0.3.7'],\n",
    "    classifiers=[\n",
    "        'Development Status :: 5 - Production/Stable',\n",
    "        'Intended Audience :: Developers',\n",
    "        'License :: OSI Approved :: BSD License',\n",
    "        'Operating System :: OS Independent',\n",
    "        'Programming Language :: Python',\n",
    "        'Programming Language :: Python :: 3',\n",
    "        'Programming Language :: Python :: 3.6',\n",
    "        'Programming Language :: Python :: 3.7',\n",
    "        'Programming Language :: Python :: 3.8',\n",
    "        'Programming Language :: Python :: 3.9',\n",
    "    ],\n",
    "    zip_safe=False,\n",
    ")\n",
    "```"
   ]
  },
  {
   "cell_type": "code",
   "execution_count": null,
   "metadata": {},
   "outputs": [],
   "source": []
  }
 ],
 "metadata": {
  "colab": {
   "collapsed_sections": [],
   "name": "colab-tutorial.ipynb",
   "provenance": []
  },
  "kernelspec": {
   "display_name": "Python 3 (ipykernel)",
   "language": "python",
   "name": "python3"
  },
  "language_info": {
   "codemirror_mode": {
    "name": "ipython",
    "version": 3
   },
   "file_extension": ".py",
   "mimetype": "text/x-python",
   "name": "python",
   "nbconvert_exporter": "python",
   "pygments_lexer": "ipython3",
   "version": "3.9.7"
  }
 },
 "nbformat": 4,
 "nbformat_minor": 1
}
