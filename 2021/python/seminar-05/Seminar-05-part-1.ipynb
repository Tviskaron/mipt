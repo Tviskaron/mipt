{
 "cells": [
  {
   "cell_type": "markdown",
   "metadata": {
    "colab_type": "text",
    "id": "dzNng6vCL9eP"
   },
   "source": [
    "## Семинар 5: Python 3.9, Python 3.10rc"
   ]
  },
  {
   "cell_type": "markdown",
   "metadata": {},
   "source": [
    "## Python 3.9\n",
    "\n",
    "- Dictionary Unions and Update with Iterables\n",
    "- String methods\n",
    "- Type hinting\n",
    "- New math Functions\n",
    "- New parser\n",
    "- IPv6 Scoped Addresses\n",
    "- New Module: Zoneinfo\n",
    "- Other Language Changes"
   ]
  },
  {
   "cell_type": "markdown",
   "metadata": {},
   "source": [
    "### Объединение словарей (Dictionary Unions)\n",
    "\n",
    "Если у вас есть два словаря a и b, объединить их можно, используя новый оператор ```|```:\n",
    "\n",
    "```python\n",
    "\n",
    ">>> a = {1: 'a', 2: 'b', 3: 'c'}\n",
    ">>> b = {4: 'd', 5: 'e'}\n",
    ">>> c = a | b\n",
    ">>> print(c)\n",
    "\n",
    "{1: 'a', 2: 'b', 3: 'c', 4: 'd', 5: 'e'}\n",
    "```\n",
    "\n",
    "Как мы делали это раньше?"
   ]
  },
  {
   "cell_type": "code",
   "execution_count": 23,
   "metadata": {},
   "outputs": [
    {
     "name": "stdout",
     "output_type": "stream",
     "text": [
      "{1: 'a', 2: 'b', 3: 'c', 4: 'd', 5: 'e'}\n"
     ]
    }
   ],
   "source": [
    "a = {1: 'a', 2: 'b', 3: 'c'}\n",
    "b = {4: 'd', 5: 'e'}\n",
    "c = {}\n",
    "c.update(a)\n",
    "c.update(b)\n",
    "print(c)"
   ]
  },
  {
   "cell_type": "code",
   "execution_count": 24,
   "metadata": {},
   "outputs": [
    {
     "name": "stdout",
     "output_type": "stream",
     "text": [
      "{1: 'a', 2: 'b', 3: 'c', 4: 'd', 5: 'e'}\n"
     ]
    }
   ],
   "source": [
    "a = {1: 'a', 2: 'b', 3: 'c'}\n",
    "b = {4: 'd', 5: 'e'}\n",
    "c = {**a, **b}\n",
    "print(c)"
   ]
  },
  {
   "cell_type": "markdown",
   "metadata": {},
   "source": [
    "Если у словарей есть общий ключ, то будет использовано значение второго словаря:\n",
    "\n",
    "``` python\n",
    ">>> a = {1: 'a', 2: 'b', 3: 'c', 6: 'in both'}\n",
    ">>> b = {4: 'd', 5: 'e', 6: 'but different'}\n",
    ">>> print(a | b)\n",
    "\n",
    "{1: 'a', 2: 'b', 3: 'c', 6: 'but different', 4: 'd', 5: 'e'}\n",
    "```\n",
    "\n",
    "``` python\n",
    ">>> a = {1: 'a', 2: 'b', 3: 'c', 6: 'in both'}\n",
    ">>> b = {4: 'd', 5: 'e', 6: 'but different'}\n",
    ">>> a |= b\n",
    ">>> print(a)\n",
    "\n",
    "{1: 'a', 2: 'b', 3: 'c', 6: 'but different', 4: 'd', 5: 'e'}\n",
    "```"
   ]
  },
  {
   "cell_type": "markdown",
   "metadata": {},
   "source": [
    "### Еще больше обновления словарей (Dictionary Update with Iterables)\n",
    "\n",
    "Используя оператор ```|=``` мы можем обновить словарь парами ключи/значение, используя список или генератор:\n",
    "\n",
    "``` python\n",
    ">>> a = {'a': 'one', 'b': 'two'}\n",
    ">>> b = ((i, i**2) for i in range(3))\n",
    ">>> a |= b\n",
    ">>> print(a)\n",
    "\n",
    "{'a': 'one', 'b': 'two', 0: 0, 1: 1, 2: 4}\n",
    "```\n",
    "\n",
    "Если мы попробуем сделать это оператором ```|```, то получим ```TypeError```."
   ]
  },
  {
   "cell_type": "code",
   "execution_count": 1,
   "metadata": {},
   "outputs": [
    {
     "name": "stdout",
     "output_type": "stream",
     "text": [
      "{'a': 'one', 'b': 'two', 0: 0, 1: 1, 2: 4}\n"
     ]
    }
   ],
   "source": [
    "a = {'a': 'one', 'b': 'two'}\n",
    "b = ((i, i**2) for i in range(3))\n",
    "a |= b\n",
    "print(a)"
   ]
  },
  {
   "cell_type": "markdown",
   "metadata": {},
   "source": [
    "## Новые методы для строк (String methods)\n",
    "\n",
    "Появились функции для удаления заданного префикса и суффикса. Если подстрока не найдена - возвращает оригинальную строку.\n",
    "\n",
    "```python \n",
    "str.removeprefix(substring: str)\n",
    "str.removesuffix(substring: str)\n",
    "```"
   ]
  },
  {
   "cell_type": "markdown",
   "metadata": {},
   "source": [
    "### Type hinting\n",
    "\n",
    "Python имеет динамическую типизацию, это означает, что нам не нужно указывать типы данных в нашем коде.\n",
    "Но иногда это может сбивать с толку!\n",
    "\n",
    "Для статического выделения типов данных используется type annotation. Это было введено в Python 3.5, но до сих пор это выглядело довольно громоздко, т.к. нам приходилось импортировать нужные нам типы: ```import typing.List```. \n",
    "\n",
    "Теперь аннотация прекрасно работает со встроенными типами: \n",
    "\n",
    "```python \n",
    "def greet_all(names: list[str]) -> None:\n",
    "    for name in names:\n",
    "        print(\"Hello\", name)\n",
    "```\n",
    "\n",
    "Старый вариант:\n",
    "```python \n",
    "from typing import List\n",
    "\n",
    "def greet_all(names: List[str]) -> None:\n",
    "    for name in names:\n",
    "        print(\"Hello\", name)\n",
    "```"
   ]
  },
  {
   "cell_type": "markdown",
   "metadata": {},
   "source": [
    "### Новые функции в модуле ```math``` (New math Functions)\n",
    "\n",
    "В модуль ```math``` были добавлены новые функции и улучшены старые.\n",
    "\n",
    "#### Greatest common divisor\n",
    "\n",
    "``` python\n",
    ">>> import math\n",
    "\n",
    ">>> print(math.gcd(80, 64, 152))\n",
    "\n",
    "8\n",
    "```\n",
    "\n",
    "До этого ```gcd``` работала только с двумя аргументами.\n",
    "Старый вариант:\n",
    "``` python\n",
    ">>> import math\n",
    "\n",
    ">>> print(math.gcd(math.gcd(80, 64), 152))\n",
    "\n",
    "8\n",
    "```\n",
    "\n",
    "\n",
    "\n",
    "#### Least common multiple\n",
    "\n",
    "```python \n",
    ">>> math.lcm(4, 8, 5)\n",
    "\n",
    "40\n",
    "```"
   ]
  },
  {
   "cell_type": "markdown",
   "metadata": {},
   "source": [
    "### Новый парсер (New parser)\n",
    "\n",
    "Самое незаметное для нас измненение, которое потенциально может стать одним из самых значительных в дальнешем.\n",
    "\n",
    "Python 3.9 использует новый синтаксический анализатор, основанный на PEG. Раньше Python использовал LL(1). PEG более гибкий, чем LL(1), когда дело доходит до создания новых функций в языке. В официальной документации говорится, что мы заметим это начиная с версии Python 3.10."
   ]
  },
  {
   "cell_type": "markdown",
   "metadata": {},
   "source": [
    "### IPv6 Scoped Addresses\n",
    "\n",
    "Еще одно изменение, внесенное в Python 3.9, - это возможность указывать область адресов IPv6. Области IPv6 используются, чтобы указать, в какой части Интернета будет действителен соответствующий IP-адрес.\n",
    "\n",
    "```python\n",
    "from ipaddress import IPv6Address\n",
    "addr = IPv6Address('ff02::fa51%1')\n",
    "print(addr.scope_id)\n",
    "\n",
    "1\n",
    "```\n",
    "\n",
    "Теперь два адреса будут различаться при сравнении, если у них разные области."
   ]
  },
  {
   "cell_type": "markdown",
   "metadata": {},
   "source": [
    "### Новый модуль (New module) \n",
    "\n",
    "#### Zoneinfo\n",
    "\n",
    "Модуль ```zoneinfo``` обеспечивает поддержку базы данных часовых поясов IANA в стандартной библиотеке. \n",
    "\n",
    "```python\n",
    "\n",
    ">>> from zoneinfo import ZoneInfo\n",
    ">>> from datetime import datetime, timedelta\n",
    "\n",
    ">>> dt = datetime(2020, 10, 31, 12, tzinfo=ZoneInfo(\"America/Los_Angeles\"))\n",
    ">>> print(dt)\n",
    "2020-10-31 12:00:00-07:00\n",
    "\n",
    ">>> dt.tzname()\n",
    "'PDT'\n",
    "```\n",
    "\n",
    "\n",
    "Созданные таким образом даты совместимы, позволяют применять к ним все базовые операции и обрабатывают переходы на летнее время без дополнительного вмешательства:\n",
    "<br>\n",
    "\n",
    "\n",
    "```python\n",
    ">>> dt_add = dt + timedelta(days=1)\n",
    "\n",
    ">>> print(dt_add)\n",
    "2020-11-01 12:00:00-08:00\n",
    "\n",
    ">>> dt_add.tzname()\n",
    "'PST'\n",
    "```\n",
    "\n",
    "[Ссыкла на документацию](https://docs.python.org/3/library/zoneinfo.html)"
   ]
  },
  {
   "cell_type": "markdown",
   "metadata": {},
   "source": [
    "### Другие изменения:\n",
    "\n",
    "1. \n",
    "```python\n",
    "\"\".replace(\"\", s, n)```\n",
    "теперь возвращет ```s``` вместо пустой последоватлеьности, для ненулевых ```n```.\n",
    "\n",
    "2. \n",
    "Теперь ```__import__() ``` выдает ```ImportError``` вместо ```ValueError``` :)\n",
    "\n",
    "3. Python стал работать быстрее, благодаря использованию [vectorcall protocol](https://www.python.org/dev/peps/pep-0590/)."
   ]
  },
  {
   "cell_type": "markdown",
   "metadata": {},
   "source": [
    "## Python 3.10.0rc2\n",
    "\n",
    "New syntax features:\n",
    "* [PEP 634](https://www.python.org/dev/peps/pep-0634), [PEP 635](https://www.python.org/dev/peps/pep-0635), [PEP 636](https://www.python.org/dev/peps/pep-0636), Structural Pattern Matching (PEP - Python Enhancement Proposal)\n",
    "* [bpo-12782](https://bugs.python.org/issue12782), Parenthesized context managers are now officially allowed\n",
    "* [PEP 618](https://www.python.org/dev/peps/pep-0618), Add Optional Length-Checking To zip \n",
    "\n",
    "Interpreter improvements:\n",
    "\n",
    "\n",
    "* [PEP 626](https://www.python.org/dev/peps/pep-0626), Precise line numbers for debugging and other tools\n",
    "\n",
    "\n",
    "New typing features:\n",
    "* [PEP 604](https://www.python.org/dev/peps/pep-0604), Allow writing union types as X | Y\n",
    "* [PEP 613](https://www.python.org/dev/peps/pep-0613), Explicit Type Aliases\n",
    "* [PEP 612](https://www.python.org/dev/peps/pep-0612), Parameter Specification Variables\n",
    "\n",
    "Important deprecations, removals or restrictions:\n",
    "\n",
    "* [PEP 644](https://www.python.org/dev/peps/pep-0644), Require OpenSSL 1.1.1 or newer\n",
    "* [PEP 632](https://www.python.org/dev/peps/pep-0632), Deprecate distutils module.\n",
    "* [PEP 623](https://www.python.org/dev/peps/pep-0623), Deprecate and prepare for the removal of the wstr member in PyUnicodeObject.\n",
    "* [PEP 624](https://www.python.org/dev/peps/pep-0624), Remove Py_UNICODE encoder APIs\n",
    "*[PEP 597](https://www.python.org/dev/peps/pep-0597), Add optional EncodingWarning\n",
    "\n"
   ]
  },
  {
   "cell_type": "markdown",
   "metadata": {},
   "source": [
    "### Структурное сопоставление с образцом (Structural Pattern Matching)\n",
    "\n",
    "```python\n",
    "match command.split():\n",
    "    case [\"quit\"]:\n",
    "        print(\"Goodbye!\")\n",
    "        quit_game()\n",
    "    case [\"look\"]:\n",
    "        current_room.describe()\n",
    "    case [\"get\", obj]:\n",
    "        character.get(obj, current_room)\n",
    "    case [\"go\", direction]:\n",
    "        current_room = current_room.neighbor(direction)\n",
    "    # ...\n",
    "```"
   ]
  },
  {
   "cell_type": "markdown",
   "metadata": {},
   "source": [
    "### Объединение нескольких контекстных менеджеров через скобки (Parenthesized context managers are now officially allowed)\n",
    "\n",
    "Первое улучшение благодаря новому парсеру:\n",
    "\n",
    "```python\n",
    "with (CtxManager() as example):\n",
    "    ...\n",
    "\n",
    "with (\n",
    "    CtxManager1(),\n",
    "    CtxManager2()\n",
    "):\n",
    "    ...\n",
    "\n",
    "with (CtxManager1() as example,\n",
    "      CtxManager2()):\n",
    "    ...\n",
    "\n",
    "with (CtxManager1(),\n",
    "      CtxManager2() as example):\n",
    "    ...\n",
    "\n",
    "with (\n",
    "    CtxManager1() as example1,\n",
    "    CtxManager2() as example2\n",
    "):\n",
    "    ...\n",
    "```\n",
    "\n",
    "\n"
   ]
  },
  {
   "cell_type": "markdown",
   "metadata": {},
   "source": [
    "### Улучшение сообщений об ошибках (Precise line numbers for debugging and other tools)\n",
    "\n",
    "#### Пример 1, не закрыта скобка ```]```:\n",
    "```python\n",
    "expected = {9: 1, 18: 2, 19: 2, 27: 3, 28: 3, 29: 3, 36: 4, 37: 4,\n",
    "            38: 4, 39: 4, 45: 5, 46: 5, 47: 5, 48: 5, 49: 5, 54: 6,\n",
    "some_other_code = foo()\n",
    "```\n",
    "\n",
    "Было:\n",
    "```python\n",
    "File \"example.py\", line 3\n",
    "    some_other_code = foo()\n",
    "                    ^\n",
    "SyntaxError: invalid syntax\n",
    "\n",
    "```\n",
    "\n",
    "Стало:\n",
    "\n",
    "```python\n",
    "File \"example.py\", line 1\n",
    "    expected = {9: 1, 18: 2, 19: 2, 27: 3, 28: 3, 29: 3, 36: 4, 37: 4,\n",
    "               ^\n",
    "SyntaxError: '{' was never closed\n",
    "```"
   ]
  },
  {
   "cell_type": "markdown",
   "metadata": {},
   "source": [
    "#### Пример 2, исключения теперь подсвечивают весь участок кода, вызвавший ошибку\n",
    "\n",
    "Было:\n",
    "```python\n",
    ">>> foo(x, z for z in range(10), t, w)\n",
    "  File \"<stdin>\", line 1\n",
    "    foo(x, z for z in range(10), t, w)\n",
    "           ^\n",
    "SyntaxError: Generator expression must be parenthesized\n",
    "```\n",
    "\n",
    "Стало\n",
    "```python\n",
    ">>> foo(x, z for z in range(10), t, w)\n",
    "  File \"<stdin>\", line 1\n",
    "    foo(x, z for z in range(10), t, w)\n",
    "           ^^^^^^^^^^^^^^^^^^^^\n",
    "SyntaxError: Generator expression must be parenthesized\n",
    "```"
   ]
  },
  {
   "cell_type": "markdown",
   "metadata": {},
   "source": [
    "#### Пример 3, пропуск ```:``` перед блоком кода:\n",
    "```python\n",
    ">>> if rocket.position > event_horizon\n",
    "  File \"<stdin>\", line 1\n",
    "    if rocket.position > event_horizon\n",
    "                                      ^\n",
    "SyntaxError: expected ':'\n",
    "```\n"
   ]
  },
  {
   "cell_type": "markdown",
   "metadata": {},
   "source": [
    "#### Пример 4, кортежи без скобок в генераторах:\n",
    "```python\n",
    ">>> {x,y for x,y in zip('abcd', '1234')}\n",
    "  File \"<stdin>\", line 1\n",
    "    {x,y for x,y in zip('abcd', '1234')}\n",
    "     ^\n",
    "SyntaxError: did you forget parentheses around the comprehension target?\n",
    "```"
   ]
  },
  {
   "cell_type": "markdown",
   "metadata": {},
   "source": [
    "#### Пример 5, забытые скобки между выражениями:\n",
    "```python\n",
    ">>> items = {\n",
    "... x: 1,\n",
    "... y: 2\n",
    "... z: 3,\n",
    "  File \"<stdin>\", line 3\n",
    "    y: 2\n",
    "       ^\n",
    "SyntaxError: invalid syntax. Perhaps you forgot a comma?\n",
    "```"
   ]
  },
  {
   "cell_type": "markdown",
   "metadata": {},
   "source": [
    "#### Пример 6, забытые скобки в наборе исключений:\n",
    "```python\n",
    ">>> try:\n",
    "...     build_dyson_sphere()\n",
    "... except NotEnoughScienceError, NotEnoughResourcesError:\n",
    "  File \"<stdin>\", line 3\n",
    "    except NotEnoughScienceError, NotEnoughResourcesError:\n",
    "           ^\n",
    "SyntaxError: multiple exception types must be parenthesized\n",
    "```\n"
   ]
  },
  {
   "cell_type": "markdown",
   "metadata": {},
   "source": [
    "#### Пример 7, забытые ```:``` и объявления в словарях:\n",
    "```python\n",
    ">>> values = {\n",
    "... x: 1,\n",
    "... y: 2,\n",
    "... z:\n",
    "... }\n",
    "  File \"<stdin>\", line 4\n",
    "    z:\n",
    "     ^\n",
    "SyntaxError: expression expected after dictionary key and ':'\n",
    "\n",
    ">>> values = {x:1, y:2, z w:3}\n",
    "  File \"<stdin>\", line 1\n",
    "    values = {x:1, y:2, z w:3}\n",
    "                        ^\n",
    "SyntaxError: ':' expected after dictionary key\n",
    "```"
   ]
  },
  {
   "cell_type": "markdown",
   "metadata": {},
   "source": [
    "#### Пример 8, блоки ```try``` без ```except``` или ```finally```:\n",
    "```python\n",
    ">>> try:\n",
    "...     x = 2\n",
    "... something = 3\n",
    "  File \"<stdin>\", line 3\n",
    "    something  = 3\n",
    "    ^^^^^^^^^\n",
    "SyntaxError: expected 'except' or 'finally' block\n",
    "```\n"
   ]
  },
  {
   "cell_type": "markdown",
   "metadata": {},
   "source": [
    "#### Пример 9, использование ```=``` вместо ```==``` при сравнениях:\n",
    "```python\n",
    ">>> if rocket.position = event_horizon:\n",
    "  File \"<stdin>\", line 1\n",
    "    if rocket.position = event_horizon:\n",
    "                       ^\n",
    "SyntaxError: cannot assign to attribute here. Maybe you meant '==' instead of '='?\n",
    "```"
   ]
  },
  {
   "cell_type": "markdown",
   "metadata": {},
   "source": [
    "#### Пример 10, попытки использования ```*``` в f-strings:\n",
    "```python\n",
    ">>> f\"Black holes {*all_black_holes} and revelations\"\n",
    "  File \"<stdin>\", line 1\n",
    "    (*all_black_holes)\n",
    "     ^\n",
    "SyntaxError: f-string: cannot use starred expression here\n",
    "```"
   ]
  },
  {
   "cell_type": "markdown",
   "metadata": {},
   "source": [
    "#### Пример 11, ошибки с отступами:\n",
    "```python\n",
    ">>> def foo():\n",
    "...    if lel:\n",
    "...    x = 2\n",
    "  File \"<stdin>\", line 3\n",
    "    x = 2\n",
    "    ^\n",
    "IndentationError: expected an indented block after 'if' statement in line 2\n",
    "```"
   ]
  },
  {
   "cell_type": "markdown",
   "metadata": {},
   "source": [
    "#### Пример 12: ошибки в атрибутах при импортах:\n",
    "```python\n",
    ">>> collections.namedtoplo\n",
    "Traceback (most recent call last):\n",
    "  File \"<stdin>\", line 1, in <module>\n",
    "AttributeError: module 'collections' has no attribute 'namedtoplo'. Did you mean: namedtuple?\n",
    "```"
   ]
  },
  {
   "cell_type": "markdown",
   "metadata": {},
   "source": [
    "#### Пример 13: подсказки при возникновении NameErrors:\n",
    "```python\n",
    ">>> schwarzschild_black_hole = None\n",
    ">>> schwarschild_black_hole\n",
    "Traceback (most recent call last):\n",
    "  File \"<stdin>\", line 1, in <module>\n",
    "NameError: name 'schwarschild_black_hole' is not defined. Did you mean: schwarzschild_black_hole?\n",
    "```"
   ]
  }
 ],
 "metadata": {
  "colab": {
   "collapsed_sections": [],
   "name": "colab-tutorial.ipynb",
   "provenance": []
  },
  "kernelspec": {
   "display_name": "Python 3 (ipykernel)",
   "language": "python",
   "name": "python3"
  },
  "language_info": {
   "codemirror_mode": {
    "name": "ipython",
    "version": 3
   },
   "file_extension": ".py",
   "mimetype": "text/x-python",
   "name": "python",
   "nbconvert_exporter": "python",
   "pygments_lexer": "ipython3",
   "version": "3.9.7"
  }
 },
 "nbformat": 4,
 "nbformat_minor": 1
}
