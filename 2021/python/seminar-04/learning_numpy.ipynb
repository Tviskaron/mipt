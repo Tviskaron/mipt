{
 "cells": [
  {
   "cell_type": "markdown",
   "metadata": {
    "id": "dQ6TeLVrsbxV"
   },
   "source": [
    "## Learning Numpy. The Hard Way. \n",
    "\n",
    "Вам нужно выполнить упражнения по Numpy.\n"
   ]
  },
  {
   "cell_type": "markdown",
   "metadata": {
    "id": "c8xOTji2sbxY"
   },
   "source": [
    "#### Задание 1.\n",
    "```python\n",
    " # Q. Import numpy as np and print the version number.\n",
    "```"
   ]
  },
  {
   "cell_type": "code",
   "execution_count": null,
   "metadata": {},
   "outputs": [],
   "source": []
  },
  {
   "cell_type": "markdown",
   "metadata": {
    "id": "LPkaJQ6MsbxY"
   },
   "source": [
    "#### Задание 2.\n",
    "```python\n",
    "# Q. Create a 1D array of numbers from 0 to 9\n",
    "\n",
    "# Desired Output\n",
    "# > array([0, 1, 2, 3, 4, 5, 6, 7, 8, 9])\n",
    "```"
   ]
  },
  {
   "cell_type": "code",
   "execution_count": null,
   "metadata": {},
   "outputs": [],
   "source": []
  },
  {
   "cell_type": "markdown",
   "metadata": {
    "id": "Tbm4ljXtsbxY"
   },
   "source": [
    "#### Задание 3.\n",
    "```python\n",
    " # Q. Create a 3×3 numpy array of all True’s\n",
    "```"
   ]
  },
  {
   "cell_type": "code",
   "execution_count": null,
   "metadata": {},
   "outputs": [],
   "source": []
  },
  {
   "cell_type": "markdown",
   "metadata": {
    "id": "24NJr9D_sbxZ"
   },
   "source": [
    "#### Задание 4.\n",
    "```python\n",
    "# Q. Extract all odd numbers from arr\n",
    "# Input \n",
    "arr = np.array([0, 1, 2, 3, 4, 5, 6, 7, 8, 9])\n",
    "print(\"Input\")\n",
    "arr\n",
    "\n",
    "# Desired Output\n",
    "# > array([1, 3, 5, 7, 9])\n",
    "```"
   ]
  },
  {
   "cell_type": "code",
   "execution_count": null,
   "metadata": {},
   "outputs": [],
   "source": []
  },
  {
   "cell_type": "markdown",
   "metadata": {
    "id": "LFUETNZ2sbxZ"
   },
   "source": [
    "#### Задание 5.\n",
    "```python\n",
    "# Q. Replace all odd numbers in arr with -1\n",
    "# Input \n",
    "arr = np.array([0, 1, 2, 3, 4, 5, 6, 7, 8, 9])\n",
    "print(\"Input\")\n",
    "arr\n",
    "\n",
    "# Desired Output\n",
    "# >  array([ 0, -1,  2, -1,  4, -1,  6, -1,  8, -1])\n",
    "```"
   ]
  },
  {
   "cell_type": "code",
   "execution_count": null,
   "metadata": {},
   "outputs": [],
   "source": []
  },
  {
   "cell_type": "markdown",
   "metadata": {
    "id": "SnQ9cjWCsbxZ"
   },
   "source": [
    "#### Задание 6.\n",
    "```python\n",
    "# Q. Replace all odd numbers in arr with -1 without changing arr\n",
    "# Input \n",
    "arr = np.array([0, 1, 2, 3, 4, 5, 6, 7, 8, 9])\n",
    "print(\"Input\")\n",
    "arr\n",
    "\n",
    "# Desired Output\n",
    "# out #>  array([ 0, -1,  2, -1,  4, -1,  6, -1,  8, -1])\n",
    "# arr #>  array([0, 1, 2, 3, 4, 5, 6, 7, 8, 9])\n",
    "```"
   ]
  },
  {
   "cell_type": "code",
   "execution_count": null,
   "metadata": {},
   "outputs": [],
   "source": []
  },
  {
   "cell_type": "markdown",
   "metadata": {
    "id": "rL83-6eUsbxa"
   },
   "source": [
    "#### Задание 7.\n",
    "```python\n",
    "# Q. Convert a 1D array to a 2D array with 2 rows\n",
    "# Input \n",
    "arr = np.arange(10)\n",
    "print(\"Input\")\n",
    "arr\n",
    "\n",
    "# Desired Output\n",
    "# > array([[0, 1, 2, 3, 4],\n",
    "# >        [5, 6, 7, 8, 9]])\n",
    "```"
   ]
  },
  {
   "cell_type": "code",
   "execution_count": null,
   "metadata": {},
   "outputs": [],
   "source": []
  },
  {
   "cell_type": "markdown",
   "metadata": {
    "id": "D24TiwVEsbxa"
   },
   "source": [
    "#### Задание 8.\n",
    "```python\n",
    "# Q. Stack arrays a and b vertically\n",
    "# Input\n",
    "print(\"Input\")\n",
    "a = np.arange(10).reshape(2,-1)\n",
    "b = np.repeat(1, 10).reshape(2,-1)\n",
    "a\n",
    "b\n",
    "\n",
    "# Desired Output\n",
    "#> array([[0, 1, 2, 3, 4],\n",
    "#>        [5, 6, 7, 8, 9],\n",
    "#>        [1, 1, 1, 1, 1],\n",
    "#>        [1, 1, 1, 1, 1]])\n",
    "```"
   ]
  },
  {
   "cell_type": "code",
   "execution_count": null,
   "metadata": {},
   "outputs": [],
   "source": []
  },
  {
   "cell_type": "markdown",
   "metadata": {
    "id": "Z3BVLI5Xsbxa"
   },
   "source": [
    "#### Задание 9.\n",
    "```python\n",
    "# Q. Stack the arrays a and b horizontally.\n",
    "# Input\n",
    "print(\"Input\")\n",
    "a = np.arange(10).reshape(2,-1)\n",
    "b = np.repeat(1, 10).reshape(2,-1)\n",
    "\n",
    "# Desired Output\n",
    "# > array([[0, 1, 2, 3, 4, 1, 1, 1, 1, 1],\n",
    "# >        [5, 6, 7, 8, 9, 1, 1, 1, 1, 1]])\n",
    "```"
   ]
  },
  {
   "cell_type": "code",
   "execution_count": null,
   "metadata": {},
   "outputs": [],
   "source": []
  },
  {
   "cell_type": "markdown",
   "metadata": {
    "id": "BxlfM9qssbxb"
   },
   "source": [
    "#### Задание 10.\n",
    "```python\n",
    "# Q. Create the following pattern without hardcoding. Use only numpy functions and the below input array a.\n",
    "\n",
    "# Input\n",
    "print(\"Input\")\n",
    "a = np.array([1,2,3])\n",
    "a\n",
    "\n",
    "# Desired Output\n",
    "# > array([1, 1, 1, 2, 2, 2, 3, 3, 3, 1, 2, 3, 1, 2, 3, 1, 2, 3])\n",
    "```"
   ]
  },
  {
   "cell_type": "code",
   "execution_count": null,
   "metadata": {},
   "outputs": [],
   "source": []
  },
  {
   "cell_type": "markdown",
   "metadata": {
    "id": "x6zS23dhsbxb"
   },
   "source": [
    "#### Задание 11.\n",
    "```python\n",
    "# Q. Get the common items between a and b\n",
    "\n",
    "# Input\n",
    "print(\"Input\")\n",
    "a = np.array([1,2,3,2,3,4,3,4,5,6])\n",
    "b = np.array([7,2,10,2,7,4,9,4,9,8])\n",
    "a\n",
    "b\n",
    "\n",
    "# Desired Output\n",
    "# array([2, 4])\n",
    "```"
   ]
  },
  {
   "cell_type": "code",
   "execution_count": null,
   "metadata": {},
   "outputs": [],
   "source": []
  },
  {
   "cell_type": "markdown",
   "metadata": {
    "id": "WBvkV6ibsbxb"
   },
   "source": [
    "#### Задание 12.\n",
    "```python\n",
    "# Q. From array a remove all items present in array b\n",
    "\n",
    "# Input\n",
    "print(\"Input\")\n",
    "a = np.array([1,2,3,4,5])\n",
    "b = np.array([5,6,7,8,9])\n",
    "a\n",
    "b\n",
    "\n",
    "# Desired Output\n",
    "# array([1,2,3,4])\n",
    "```"
   ]
  },
  {
   "cell_type": "code",
   "execution_count": null,
   "metadata": {},
   "outputs": [],
   "source": []
  },
  {
   "cell_type": "markdown",
   "metadata": {
    "id": "uEx6kucUsbxc"
   },
   "source": [
    "#### Задание 13.\n",
    "```python\n",
    "# Q. Get the positions where elements of a and b match\n",
    "\n",
    "# Input\n",
    "print(\"Input\")\n",
    "a = np.array([1,2,3,2,3,4,3,4,5,6])\n",
    "b = np.array([7,2,10,2,7,4,9,4,9,8])\n",
    "a\n",
    "b\n",
    "\n",
    "# Desired Output\n",
    "# > (array([1, 3, 5, 7]),)\n",
    "```"
   ]
  },
  {
   "cell_type": "code",
   "execution_count": null,
   "metadata": {},
   "outputs": [],
   "source": []
  },
  {
   "cell_type": "markdown",
   "metadata": {
    "id": "j8w1D0lLsbxc"
   },
   "source": [
    "#### Задание 14.\n",
    "```python\n",
    "# Q. Get all items between 5 and 10 from a.\n",
    "\n",
    "# Input\n",
    "print(\"Input\")\n",
    "a = np.array([2, 6, 1, 9, 10, 3, 27])\n",
    "a\n",
    "\n",
    "# Desired Output\n",
    "# (array([6, 9, 10]),)\n",
    "```"
   ]
  },
  {
   "cell_type": "code",
   "execution_count": null,
   "metadata": {},
   "outputs": [],
   "source": []
  },
  {
   "cell_type": "markdown",
   "metadata": {
    "id": "VCzEXBBjsbxc"
   },
   "source": [
    "#### Задание 15.\n",
    "```python\n",
    "# Q. Convert the function maxx that works on two scalars, to work on two arrays.\n",
    "\n",
    "# Input\n",
    "\n",
    "def maxx(x, y):\n",
    "    \"\"\"\n",
    "    Get the maximum of two items\n",
    "    \"\"\"\n",
    "    \n",
    "    if x >= y:\n",
    "        return x\n",
    "    else:\n",
    "        return y\n",
    "print(\"Result of the maxx function\")\n",
    "maxx(1, 5)\n",
    "\n",
    "print(\"Input\")\n",
    "a = np.array([5, 7, 9, 8, 6, 4, 5])\n",
    "b = np.array([6, 3, 4, 8, 9, 7, 1])\n",
    "a\n",
    "b\n",
    "\n",
    "# Desired Output\n",
    "# pair_max(a, b)\n",
    "#> array([ 6.,  7.,  9.,  8.,  9.,  7.,  5.])\n",
    "```"
   ]
  },
  {
   "cell_type": "code",
   "execution_count": null,
   "metadata": {},
   "outputs": [],
   "source": []
  },
  {
   "cell_type": "markdown",
   "metadata": {
    "id": "gMq_g-Etsbxc"
   },
   "source": [
    "#### Задание 16.\n",
    "```python\n",
    "# Q. Swap columns 1 and 2 in the array arr.\n",
    "\n",
    "# Input\n",
    "print(\"Input\")\n",
    "arr = np.arange(9).reshape(3,3)\n",
    "arr\n",
    "```"
   ]
  },
  {
   "cell_type": "code",
   "execution_count": null,
   "metadata": {},
   "outputs": [],
   "source": []
  },
  {
   "cell_type": "markdown",
   "metadata": {
    "id": "Z6yPEalTsbxd"
   },
   "source": [
    "#### Задание 17.\n",
    "```python\n",
    "# Q. Swap rows 1 and 2 in the array arr:\n",
    "\n",
    "# Input\n",
    "print(\"Input\")\n",
    "arr = np.arange(9).reshape(3,3)\n",
    "arr\n",
    "```"
   ]
  },
  {
   "cell_type": "code",
   "execution_count": null,
   "metadata": {},
   "outputs": [],
   "source": []
  },
  {
   "cell_type": "markdown",
   "metadata": {
    "id": "xlShWYVBsbxd"
   },
   "source": [
    "#### Задание 18.\n",
    "```python\n",
    "# Q. Reverse the rows of a 2D array arr.\n",
    "\n",
    "# Input\n",
    "print(\"Input\")\n",
    "arr = np.arange(9).reshape(3,3)\n",
    "arr\n",
    "```"
   ]
  },
  {
   "cell_type": "code",
   "execution_count": null,
   "metadata": {},
   "outputs": [],
   "source": []
  },
  {
   "cell_type": "markdown",
   "metadata": {
    "id": "_Opyl7JXsbxd"
   },
   "source": [
    "#### Задание 19.\n",
    "```python\n",
    "# Q. Reverse the columns of a 2D array arr.\n",
    "\n",
    "# Input\n",
    "print(\"Input\")\n",
    "arr = np.arange(9).reshape(3,3)\n",
    "arr\n",
    "```"
   ]
  },
  {
   "cell_type": "code",
   "execution_count": null,
   "metadata": {},
   "outputs": [],
   "source": []
  },
  {
   "cell_type": "markdown",
   "metadata": {
    "id": "vwuTaK0qsbxd"
   },
   "source": [
    "#### Задание 20.\n",
    "```python\n",
    "# Q. Create a 2D array of shape 5x3 to contain random decimal numbers between 5 and 10.\n",
    "```"
   ]
  },
  {
   "cell_type": "code",
   "execution_count": null,
   "metadata": {},
   "outputs": [],
   "source": []
  }
 ],
 "metadata": {
  "colab": {
   "collapsed_sections": [],
   "name": "Seminar-05.ipynb",
   "provenance": []
  },
  "kernelspec": {
   "display_name": "Python 3 (ipykernel)",
   "language": "python",
   "name": "python3"
  },
  "language_info": {
   "codemirror_mode": {
    "name": "ipython",
    "version": 3
   },
   "file_extension": ".py",
   "mimetype": "text/x-python",
   "name": "python",
   "nbconvert_exporter": "python",
   "pygments_lexer": "ipython3",
   "version": "3.9.7"
  }
 },
 "nbformat": 4,
 "nbformat_minor": 1
}
